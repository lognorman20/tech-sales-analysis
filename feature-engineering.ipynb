{
 "metadata": {
  "language_info": {
   "codemirror_mode": {
    "name": "ipython",
    "version": 3
   },
   "file_extension": ".py",
   "mimetype": "text/x-python",
   "name": "python",
   "nbconvert_exporter": "python",
   "pygments_lexer": "ipython3",
   "version": "3.8.5-final"
  },
  "orig_nbformat": 2,
  "kernelspec": {
   "name": "python3",
   "display_name": "Python 3.8.5 64-bit",
   "metadata": {
    "interpreter": {
     "hash": "082e9a3bcad0a290d0001e938aa60b99250c6c2ef33a923c00b70f9826caf4b7"
    }
   }
  }
 },
 "nbformat": 4,
 "nbformat_minor": 2,
 "cells": [
  {
   "cell_type": "code",
   "execution_count": 16,
   "metadata": {},
   "outputs": [],
   "source": [
    "import pandas as pd\n",
    "import numpy as np\n",
    "import seaborn as sns\n",
    "import matplotlib.pyplot as plt\n",
    "import matplotlib.ticker as plticker\n",
    "%matplotlib inline"
   ]
  },
  {
   "cell_type": "code",
   "execution_count": 17,
   "metadata": {},
   "outputs": [
    {
     "output_type": "execute_result",
     "data": {
      "text/plain": [
       "   Order ID               Product  Quantity Ordered  Price Each  \\\n",
       "0    295665    Macbook Pro Laptop               1.0     1700.00   \n",
       "1    295666    LG Washing Machine               1.0      600.00   \n",
       "2    295667  USB-C Charging Cable               1.0       11.95   \n",
       "3    295668      27in FHD Monitor               1.0      149.99   \n",
       "4    295669  USB-C Charging Cable               1.0       11.95   \n",
       "\n",
       "            Order Date                        Purchase Address  \n",
       "0  2019-12-30 00:01:00  136 Church St, New York City, NY 10001  \n",
       "1  2019-12-29 07:03:00     562 2nd St, New York City, NY 10001  \n",
       "2  2019-12-12 18:21:00    277 Main St, New York City, NY 10001  \n",
       "3  2019-12-22 15:13:00     410 6th St, San Francisco, CA 94016  \n",
       "4  2019-12-18 12:38:00           43 Hill St, Atlanta, GA 30301  "
      ],
      "text/html": "<div>\n<style scoped>\n    .dataframe tbody tr th:only-of-type {\n        vertical-align: middle;\n    }\n\n    .dataframe tbody tr th {\n        vertical-align: top;\n    }\n\n    .dataframe thead th {\n        text-align: right;\n    }\n</style>\n<table border=\"1\" class=\"dataframe\">\n  <thead>\n    <tr style=\"text-align: right;\">\n      <th></th>\n      <th>Order ID</th>\n      <th>Product</th>\n      <th>Quantity Ordered</th>\n      <th>Price Each</th>\n      <th>Order Date</th>\n      <th>Purchase Address</th>\n    </tr>\n  </thead>\n  <tbody>\n    <tr>\n      <th>0</th>\n      <td>295665</td>\n      <td>Macbook Pro Laptop</td>\n      <td>1.0</td>\n      <td>1700.00</td>\n      <td>2019-12-30 00:01:00</td>\n      <td>136 Church St, New York City, NY 10001</td>\n    </tr>\n    <tr>\n      <th>1</th>\n      <td>295666</td>\n      <td>LG Washing Machine</td>\n      <td>1.0</td>\n      <td>600.00</td>\n      <td>2019-12-29 07:03:00</td>\n      <td>562 2nd St, New York City, NY 10001</td>\n    </tr>\n    <tr>\n      <th>2</th>\n      <td>295667</td>\n      <td>USB-C Charging Cable</td>\n      <td>1.0</td>\n      <td>11.95</td>\n      <td>2019-12-12 18:21:00</td>\n      <td>277 Main St, New York City, NY 10001</td>\n    </tr>\n    <tr>\n      <th>3</th>\n      <td>295668</td>\n      <td>27in FHD Monitor</td>\n      <td>1.0</td>\n      <td>149.99</td>\n      <td>2019-12-22 15:13:00</td>\n      <td>410 6th St, San Francisco, CA 94016</td>\n    </tr>\n    <tr>\n      <th>4</th>\n      <td>295669</td>\n      <td>USB-C Charging Cable</td>\n      <td>1.0</td>\n      <td>11.95</td>\n      <td>2019-12-18 12:38:00</td>\n      <td>43 Hill St, Atlanta, GA 30301</td>\n    </tr>\n  </tbody>\n</table>\n</div>"
     },
     "metadata": {},
     "execution_count": 17
    }
   ],
   "source": [
    "# Reading in the cleaned data\n",
    "df = pd.read_csv('cleaned_sales_data.csv', index_col= None)\n",
    "df.head()"
   ]
  },
  {
   "cell_type": "markdown",
   "metadata": {},
   "source": [
    "# Adding columns for order times (month, day, hour)"
   ]
  },
  {
   "cell_type": "code",
   "execution_count": 18,
   "metadata": {},
   "outputs": [],
   "source": [
    "# Converting order date column into date dtype\n",
    "df['Order Date'] = pd.to_datetime(df['Order Date'])"
   ]
  },
  {
   "cell_type": "code",
   "execution_count": 19,
   "metadata": {},
   "outputs": [
    {
     "output_type": "execute_result",
     "data": {
      "text/plain": [
       "   Order ID               Product  Quantity Ordered  Price Each  \\\n",
       "0    295665    Macbook Pro Laptop               1.0     1700.00   \n",
       "1    295666    LG Washing Machine               1.0      600.00   \n",
       "2    295667  USB-C Charging Cable               1.0       11.95   \n",
       "3    295668      27in FHD Monitor               1.0      149.99   \n",
       "4    295669  USB-C Charging Cable               1.0       11.95   \n",
       "\n",
       "           Order Date                        Purchase Address  Order_Month  \n",
       "0 2019-12-30 00:01:00  136 Church St, New York City, NY 10001           12  \n",
       "1 2019-12-29 07:03:00     562 2nd St, New York City, NY 10001           12  \n",
       "2 2019-12-12 18:21:00    277 Main St, New York City, NY 10001           12  \n",
       "3 2019-12-22 15:13:00     410 6th St, San Francisco, CA 94016           12  \n",
       "4 2019-12-18 12:38:00           43 Hill St, Atlanta, GA 30301           12  "
      ],
      "text/html": "<div>\n<style scoped>\n    .dataframe tbody tr th:only-of-type {\n        vertical-align: middle;\n    }\n\n    .dataframe tbody tr th {\n        vertical-align: top;\n    }\n\n    .dataframe thead th {\n        text-align: right;\n    }\n</style>\n<table border=\"1\" class=\"dataframe\">\n  <thead>\n    <tr style=\"text-align: right;\">\n      <th></th>\n      <th>Order ID</th>\n      <th>Product</th>\n      <th>Quantity Ordered</th>\n      <th>Price Each</th>\n      <th>Order Date</th>\n      <th>Purchase Address</th>\n      <th>Order_Month</th>\n    </tr>\n  </thead>\n  <tbody>\n    <tr>\n      <th>0</th>\n      <td>295665</td>\n      <td>Macbook Pro Laptop</td>\n      <td>1.0</td>\n      <td>1700.00</td>\n      <td>2019-12-30 00:01:00</td>\n      <td>136 Church St, New York City, NY 10001</td>\n      <td>12</td>\n    </tr>\n    <tr>\n      <th>1</th>\n      <td>295666</td>\n      <td>LG Washing Machine</td>\n      <td>1.0</td>\n      <td>600.00</td>\n      <td>2019-12-29 07:03:00</td>\n      <td>562 2nd St, New York City, NY 10001</td>\n      <td>12</td>\n    </tr>\n    <tr>\n      <th>2</th>\n      <td>295667</td>\n      <td>USB-C Charging Cable</td>\n      <td>1.0</td>\n      <td>11.95</td>\n      <td>2019-12-12 18:21:00</td>\n      <td>277 Main St, New York City, NY 10001</td>\n      <td>12</td>\n    </tr>\n    <tr>\n      <th>3</th>\n      <td>295668</td>\n      <td>27in FHD Monitor</td>\n      <td>1.0</td>\n      <td>149.99</td>\n      <td>2019-12-22 15:13:00</td>\n      <td>410 6th St, San Francisco, CA 94016</td>\n      <td>12</td>\n    </tr>\n    <tr>\n      <th>4</th>\n      <td>295669</td>\n      <td>USB-C Charging Cable</td>\n      <td>1.0</td>\n      <td>11.95</td>\n      <td>2019-12-18 12:38:00</td>\n      <td>43 Hill St, Atlanta, GA 30301</td>\n      <td>12</td>\n    </tr>\n  </tbody>\n</table>\n</div>"
     },
     "metadata": {},
     "execution_count": 19
    }
   ],
   "source": [
    "df['Order_Month'] = pd.DatetimeIndex(df['Order Date']).month\n",
    "df.head()"
   ]
  },
  {
   "cell_type": "code",
   "execution_count": 20,
   "metadata": {},
   "outputs": [
    {
     "output_type": "execute_result",
     "data": {
      "text/plain": [
       "   Order ID               Product  Quantity Ordered  Price Each  \\\n",
       "0    295665    Macbook Pro Laptop               1.0     1700.00   \n",
       "1    295666    LG Washing Machine               1.0      600.00   \n",
       "2    295667  USB-C Charging Cable               1.0       11.95   \n",
       "3    295668      27in FHD Monitor               1.0      149.99   \n",
       "4    295669  USB-C Charging Cable               1.0       11.95   \n",
       "\n",
       "           Order Date                        Purchase Address  Order_Month  \\\n",
       "0 2019-12-30 00:01:00  136 Church St, New York City, NY 10001           12   \n",
       "1 2019-12-29 07:03:00     562 2nd St, New York City, NY 10001           12   \n",
       "2 2019-12-12 18:21:00    277 Main St, New York City, NY 10001           12   \n",
       "3 2019-12-22 15:13:00     410 6th St, San Francisco, CA 94016           12   \n",
       "4 2019-12-18 12:38:00           43 Hill St, Atlanta, GA 30301           12   \n",
       "\n",
       "   Order_Hour  \n",
       "0           0  \n",
       "1           7  \n",
       "2          18  \n",
       "3          15  \n",
       "4          12  "
      ],
      "text/html": "<div>\n<style scoped>\n    .dataframe tbody tr th:only-of-type {\n        vertical-align: middle;\n    }\n\n    .dataframe tbody tr th {\n        vertical-align: top;\n    }\n\n    .dataframe thead th {\n        text-align: right;\n    }\n</style>\n<table border=\"1\" class=\"dataframe\">\n  <thead>\n    <tr style=\"text-align: right;\">\n      <th></th>\n      <th>Order ID</th>\n      <th>Product</th>\n      <th>Quantity Ordered</th>\n      <th>Price Each</th>\n      <th>Order Date</th>\n      <th>Purchase Address</th>\n      <th>Order_Month</th>\n      <th>Order_Hour</th>\n    </tr>\n  </thead>\n  <tbody>\n    <tr>\n      <th>0</th>\n      <td>295665</td>\n      <td>Macbook Pro Laptop</td>\n      <td>1.0</td>\n      <td>1700.00</td>\n      <td>2019-12-30 00:01:00</td>\n      <td>136 Church St, New York City, NY 10001</td>\n      <td>12</td>\n      <td>0</td>\n    </tr>\n    <tr>\n      <th>1</th>\n      <td>295666</td>\n      <td>LG Washing Machine</td>\n      <td>1.0</td>\n      <td>600.00</td>\n      <td>2019-12-29 07:03:00</td>\n      <td>562 2nd St, New York City, NY 10001</td>\n      <td>12</td>\n      <td>7</td>\n    </tr>\n    <tr>\n      <th>2</th>\n      <td>295667</td>\n      <td>USB-C Charging Cable</td>\n      <td>1.0</td>\n      <td>11.95</td>\n      <td>2019-12-12 18:21:00</td>\n      <td>277 Main St, New York City, NY 10001</td>\n      <td>12</td>\n      <td>18</td>\n    </tr>\n    <tr>\n      <th>3</th>\n      <td>295668</td>\n      <td>27in FHD Monitor</td>\n      <td>1.0</td>\n      <td>149.99</td>\n      <td>2019-12-22 15:13:00</td>\n      <td>410 6th St, San Francisco, CA 94016</td>\n      <td>12</td>\n      <td>15</td>\n    </tr>\n    <tr>\n      <th>4</th>\n      <td>295669</td>\n      <td>USB-C Charging Cable</td>\n      <td>1.0</td>\n      <td>11.95</td>\n      <td>2019-12-18 12:38:00</td>\n      <td>43 Hill St, Atlanta, GA 30301</td>\n      <td>12</td>\n      <td>12</td>\n    </tr>\n  </tbody>\n</table>\n</div>"
     },
     "metadata": {},
     "execution_count": 20
    }
   ],
   "source": [
    "df['Order_Hour'] = pd.DatetimeIndex(df['Order Date']).hour\n",
    "df.head()"
   ]
  },
  {
   "cell_type": "code",
   "execution_count": 21,
   "metadata": {},
   "outputs": [
    {
     "output_type": "execute_result",
     "data": {
      "text/plain": [
       "   Order ID               Product  Quantity Ordered  Price Each  \\\n",
       "0    295665    Macbook Pro Laptop               1.0     1700.00   \n",
       "1    295666    LG Washing Machine               1.0      600.00   \n",
       "2    295667  USB-C Charging Cable               1.0       11.95   \n",
       "3    295668      27in FHD Monitor               1.0      149.99   \n",
       "4    295669  USB-C Charging Cable               1.0       11.95   \n",
       "\n",
       "           Order Date                        Purchase Address  Order_Month  \\\n",
       "0 2019-12-30 00:01:00  136 Church St, New York City, NY 10001           12   \n",
       "1 2019-12-29 07:03:00     562 2nd St, New York City, NY 10001           12   \n",
       "2 2019-12-12 18:21:00    277 Main St, New York City, NY 10001           12   \n",
       "3 2019-12-22 15:13:00     410 6th St, San Francisco, CA 94016           12   \n",
       "4 2019-12-18 12:38:00           43 Hill St, Atlanta, GA 30301           12   \n",
       "\n",
       "   Order_Hour  Order_Day  \n",
       "0           0         30  \n",
       "1           7         29  \n",
       "2          18         12  \n",
       "3          15         22  \n",
       "4          12         18  "
      ],
      "text/html": "<div>\n<style scoped>\n    .dataframe tbody tr th:only-of-type {\n        vertical-align: middle;\n    }\n\n    .dataframe tbody tr th {\n        vertical-align: top;\n    }\n\n    .dataframe thead th {\n        text-align: right;\n    }\n</style>\n<table border=\"1\" class=\"dataframe\">\n  <thead>\n    <tr style=\"text-align: right;\">\n      <th></th>\n      <th>Order ID</th>\n      <th>Product</th>\n      <th>Quantity Ordered</th>\n      <th>Price Each</th>\n      <th>Order Date</th>\n      <th>Purchase Address</th>\n      <th>Order_Month</th>\n      <th>Order_Hour</th>\n      <th>Order_Day</th>\n    </tr>\n  </thead>\n  <tbody>\n    <tr>\n      <th>0</th>\n      <td>295665</td>\n      <td>Macbook Pro Laptop</td>\n      <td>1.0</td>\n      <td>1700.00</td>\n      <td>2019-12-30 00:01:00</td>\n      <td>136 Church St, New York City, NY 10001</td>\n      <td>12</td>\n      <td>0</td>\n      <td>30</td>\n    </tr>\n    <tr>\n      <th>1</th>\n      <td>295666</td>\n      <td>LG Washing Machine</td>\n      <td>1.0</td>\n      <td>600.00</td>\n      <td>2019-12-29 07:03:00</td>\n      <td>562 2nd St, New York City, NY 10001</td>\n      <td>12</td>\n      <td>7</td>\n      <td>29</td>\n    </tr>\n    <tr>\n      <th>2</th>\n      <td>295667</td>\n      <td>USB-C Charging Cable</td>\n      <td>1.0</td>\n      <td>11.95</td>\n      <td>2019-12-12 18:21:00</td>\n      <td>277 Main St, New York City, NY 10001</td>\n      <td>12</td>\n      <td>18</td>\n      <td>12</td>\n    </tr>\n    <tr>\n      <th>3</th>\n      <td>295668</td>\n      <td>27in FHD Monitor</td>\n      <td>1.0</td>\n      <td>149.99</td>\n      <td>2019-12-22 15:13:00</td>\n      <td>410 6th St, San Francisco, CA 94016</td>\n      <td>12</td>\n      <td>15</td>\n      <td>22</td>\n    </tr>\n    <tr>\n      <th>4</th>\n      <td>295669</td>\n      <td>USB-C Charging Cable</td>\n      <td>1.0</td>\n      <td>11.95</td>\n      <td>2019-12-18 12:38:00</td>\n      <td>43 Hill St, Atlanta, GA 30301</td>\n      <td>12</td>\n      <td>12</td>\n      <td>18</td>\n    </tr>\n  </tbody>\n</table>\n</div>"
     },
     "metadata": {},
     "execution_count": 21
    }
   ],
   "source": [
    "df['Order_Day'] = pd.DatetimeIndex(df['Order Date']).day\n",
    "df.head()"
   ]
  },
  {
   "cell_type": "markdown",
   "metadata": {},
   "source": [
    "# Adding a sale value column"
   ]
  },
  {
   "cell_type": "code",
   "execution_count": 22,
   "metadata": {},
   "outputs": [
    {
     "output_type": "execute_result",
     "data": {
      "text/plain": [
       "   Order ID               Product  Quantity Ordered  Price Each  \\\n",
       "0    295665    Macbook Pro Laptop               1.0     1700.00   \n",
       "1    295666    LG Washing Machine               1.0      600.00   \n",
       "2    295667  USB-C Charging Cable               1.0       11.95   \n",
       "3    295668      27in FHD Monitor               1.0      149.99   \n",
       "4    295669  USB-C Charging Cable               1.0       11.95   \n",
       "\n",
       "           Order Date                        Purchase Address  Order_Month  \\\n",
       "0 2019-12-30 00:01:00  136 Church St, New York City, NY 10001           12   \n",
       "1 2019-12-29 07:03:00     562 2nd St, New York City, NY 10001           12   \n",
       "2 2019-12-12 18:21:00    277 Main St, New York City, NY 10001           12   \n",
       "3 2019-12-22 15:13:00     410 6th St, San Francisco, CA 94016           12   \n",
       "4 2019-12-18 12:38:00           43 Hill St, Atlanta, GA 30301           12   \n",
       "\n",
       "   Order_Hour  Order_Day  Sale_Value  \n",
       "0           0         30     1700.00  \n",
       "1           7         29      600.00  \n",
       "2          18         12       11.95  \n",
       "3          15         22      149.99  \n",
       "4          12         18       11.95  "
      ],
      "text/html": "<div>\n<style scoped>\n    .dataframe tbody tr th:only-of-type {\n        vertical-align: middle;\n    }\n\n    .dataframe tbody tr th {\n        vertical-align: top;\n    }\n\n    .dataframe thead th {\n        text-align: right;\n    }\n</style>\n<table border=\"1\" class=\"dataframe\">\n  <thead>\n    <tr style=\"text-align: right;\">\n      <th></th>\n      <th>Order ID</th>\n      <th>Product</th>\n      <th>Quantity Ordered</th>\n      <th>Price Each</th>\n      <th>Order Date</th>\n      <th>Purchase Address</th>\n      <th>Order_Month</th>\n      <th>Order_Hour</th>\n      <th>Order_Day</th>\n      <th>Sale_Value</th>\n    </tr>\n  </thead>\n  <tbody>\n    <tr>\n      <th>0</th>\n      <td>295665</td>\n      <td>Macbook Pro Laptop</td>\n      <td>1.0</td>\n      <td>1700.00</td>\n      <td>2019-12-30 00:01:00</td>\n      <td>136 Church St, New York City, NY 10001</td>\n      <td>12</td>\n      <td>0</td>\n      <td>30</td>\n      <td>1700.00</td>\n    </tr>\n    <tr>\n      <th>1</th>\n      <td>295666</td>\n      <td>LG Washing Machine</td>\n      <td>1.0</td>\n      <td>600.00</td>\n      <td>2019-12-29 07:03:00</td>\n      <td>562 2nd St, New York City, NY 10001</td>\n      <td>12</td>\n      <td>7</td>\n      <td>29</td>\n      <td>600.00</td>\n    </tr>\n    <tr>\n      <th>2</th>\n      <td>295667</td>\n      <td>USB-C Charging Cable</td>\n      <td>1.0</td>\n      <td>11.95</td>\n      <td>2019-12-12 18:21:00</td>\n      <td>277 Main St, New York City, NY 10001</td>\n      <td>12</td>\n      <td>18</td>\n      <td>12</td>\n      <td>11.95</td>\n    </tr>\n    <tr>\n      <th>3</th>\n      <td>295668</td>\n      <td>27in FHD Monitor</td>\n      <td>1.0</td>\n      <td>149.99</td>\n      <td>2019-12-22 15:13:00</td>\n      <td>410 6th St, San Francisco, CA 94016</td>\n      <td>12</td>\n      <td>15</td>\n      <td>22</td>\n      <td>149.99</td>\n    </tr>\n    <tr>\n      <th>4</th>\n      <td>295669</td>\n      <td>USB-C Charging Cable</td>\n      <td>1.0</td>\n      <td>11.95</td>\n      <td>2019-12-18 12:38:00</td>\n      <td>43 Hill St, Atlanta, GA 30301</td>\n      <td>12</td>\n      <td>12</td>\n      <td>18</td>\n      <td>11.95</td>\n    </tr>\n  </tbody>\n</table>\n</div>"
     },
     "metadata": {},
     "execution_count": 22
    }
   ],
   "source": [
    "df['Sale_Value'] = df['Quantity Ordered'] * df['Price Each']\n",
    "df.head()"
   ]
  },
  {
   "cell_type": "code",
   "execution_count": 23,
   "metadata": {},
   "outputs": [
    {
     "output_type": "execute_result",
     "data": {
      "text/plain": [
       "Order ID                     int64\n",
       "Product                     object\n",
       "Quantity Ordered           float64\n",
       "Price Each                 float64\n",
       "Order Date          datetime64[ns]\n",
       "Purchase Address            object\n",
       "Order_Month                  int64\n",
       "Order_Hour                   int64\n",
       "Order_Day                    int64\n",
       "Sale_Value                 float64\n",
       "dtype: object"
      ]
     },
     "metadata": {},
     "execution_count": 23
    }
   ],
   "source": [
    "# Making sure all values are the correct dtype\n",
    "df.dtypes"
   ]
  },
  {
   "cell_type": "markdown",
   "metadata": {},
   "source": [
    "# Adding a buyer state column"
   ]
  },
  {
   "cell_type": "code",
   "execution_count": 24,
   "metadata": {},
   "outputs": [
    {
     "output_type": "execute_result",
     "data": {
      "text/plain": [
       "   Order ID               Product  Quantity Ordered  Price Each  \\\n",
       "0    295665    Macbook Pro Laptop               1.0     1700.00   \n",
       "1    295666    LG Washing Machine               1.0      600.00   \n",
       "2    295667  USB-C Charging Cable               1.0       11.95   \n",
       "3    295668      27in FHD Monitor               1.0      149.99   \n",
       "4    295669  USB-C Charging Cable               1.0       11.95   \n",
       "\n",
       "           Order Date                        Purchase Address  Order_Month  \\\n",
       "0 2019-12-30 00:01:00  136 Church St, New York City, NY 10001           12   \n",
       "1 2019-12-29 07:03:00     562 2nd St, New York City, NY 10001           12   \n",
       "2 2019-12-12 18:21:00    277 Main St, New York City, NY 10001           12   \n",
       "3 2019-12-22 15:13:00     410 6th St, San Francisco, CA 94016           12   \n",
       "4 2019-12-18 12:38:00           43 Hill St, Atlanta, GA 30301           12   \n",
       "\n",
       "   Order_Hour  Order_Day  Sale_Value Buyer_State  \n",
       "0           0         30     1700.00          NY  \n",
       "1           7         29      600.00          NY  \n",
       "2          18         12       11.95          NY  \n",
       "3          15         22      149.99          CA  \n",
       "4          12         18       11.95          GA  "
      ],
      "text/html": "<div>\n<style scoped>\n    .dataframe tbody tr th:only-of-type {\n        vertical-align: middle;\n    }\n\n    .dataframe tbody tr th {\n        vertical-align: top;\n    }\n\n    .dataframe thead th {\n        text-align: right;\n    }\n</style>\n<table border=\"1\" class=\"dataframe\">\n  <thead>\n    <tr style=\"text-align: right;\">\n      <th></th>\n      <th>Order ID</th>\n      <th>Product</th>\n      <th>Quantity Ordered</th>\n      <th>Price Each</th>\n      <th>Order Date</th>\n      <th>Purchase Address</th>\n      <th>Order_Month</th>\n      <th>Order_Hour</th>\n      <th>Order_Day</th>\n      <th>Sale_Value</th>\n      <th>Buyer_State</th>\n    </tr>\n  </thead>\n  <tbody>\n    <tr>\n      <th>0</th>\n      <td>295665</td>\n      <td>Macbook Pro Laptop</td>\n      <td>1.0</td>\n      <td>1700.00</td>\n      <td>2019-12-30 00:01:00</td>\n      <td>136 Church St, New York City, NY 10001</td>\n      <td>12</td>\n      <td>0</td>\n      <td>30</td>\n      <td>1700.00</td>\n      <td>NY</td>\n    </tr>\n    <tr>\n      <th>1</th>\n      <td>295666</td>\n      <td>LG Washing Machine</td>\n      <td>1.0</td>\n      <td>600.00</td>\n      <td>2019-12-29 07:03:00</td>\n      <td>562 2nd St, New York City, NY 10001</td>\n      <td>12</td>\n      <td>7</td>\n      <td>29</td>\n      <td>600.00</td>\n      <td>NY</td>\n    </tr>\n    <tr>\n      <th>2</th>\n      <td>295667</td>\n      <td>USB-C Charging Cable</td>\n      <td>1.0</td>\n      <td>11.95</td>\n      <td>2019-12-12 18:21:00</td>\n      <td>277 Main St, New York City, NY 10001</td>\n      <td>12</td>\n      <td>18</td>\n      <td>12</td>\n      <td>11.95</td>\n      <td>NY</td>\n    </tr>\n    <tr>\n      <th>3</th>\n      <td>295668</td>\n      <td>27in FHD Monitor</td>\n      <td>1.0</td>\n      <td>149.99</td>\n      <td>2019-12-22 15:13:00</td>\n      <td>410 6th St, San Francisco, CA 94016</td>\n      <td>12</td>\n      <td>15</td>\n      <td>22</td>\n      <td>149.99</td>\n      <td>CA</td>\n    </tr>\n    <tr>\n      <th>4</th>\n      <td>295669</td>\n      <td>USB-C Charging Cable</td>\n      <td>1.0</td>\n      <td>11.95</td>\n      <td>2019-12-18 12:38:00</td>\n      <td>43 Hill St, Atlanta, GA 30301</td>\n      <td>12</td>\n      <td>12</td>\n      <td>18</td>\n      <td>11.95</td>\n      <td>GA</td>\n    </tr>\n  </tbody>\n</table>\n</div>"
     },
     "metadata": {},
     "execution_count": 24
    }
   ],
   "source": [
    "df['Buyer_State'] = df['Purchase Address'].str.slice(start= -8, stop= -6)\n",
    "df.head()"
   ]
  },
  {
   "cell_type": "markdown",
   "metadata": {},
   "source": [
    "# Adding a buyer city column"
   ]
  },
  {
   "cell_type": "code",
   "execution_count": 25,
   "metadata": {},
   "outputs": [
    {
     "output_type": "execute_result",
     "data": {
      "text/plain": [
       "   Order ID               Product  Quantity Ordered  Price Each  \\\n",
       "0    295665    Macbook Pro Laptop               1.0     1700.00   \n",
       "1    295666    LG Washing Machine               1.0      600.00   \n",
       "2    295667  USB-C Charging Cable               1.0       11.95   \n",
       "3    295668      27in FHD Monitor               1.0      149.99   \n",
       "4    295669  USB-C Charging Cable               1.0       11.95   \n",
       "\n",
       "           Order Date                        Purchase Address  Order_Month  \\\n",
       "0 2019-12-30 00:01:00  136 Church St, New York City, NY 10001           12   \n",
       "1 2019-12-29 07:03:00     562 2nd St, New York City, NY 10001           12   \n",
       "2 2019-12-12 18:21:00    277 Main St, New York City, NY 10001           12   \n",
       "3 2019-12-22 15:13:00     410 6th St, San Francisco, CA 94016           12   \n",
       "4 2019-12-18 12:38:00           43 Hill St, Atlanta, GA 30301           12   \n",
       "\n",
       "   Order_Hour  Order_Day  Sale_Value Buyer_State     Buyer_City  \n",
       "0           0         30     1700.00          NY  New York City  \n",
       "1           7         29      600.00          NY  New York City  \n",
       "2          18         12       11.95          NY  New York City  \n",
       "3          15         22      149.99          CA  San Francisco  \n",
       "4          12         18       11.95          GA        Atlanta  "
      ],
      "text/html": "<div>\n<style scoped>\n    .dataframe tbody tr th:only-of-type {\n        vertical-align: middle;\n    }\n\n    .dataframe tbody tr th {\n        vertical-align: top;\n    }\n\n    .dataframe thead th {\n        text-align: right;\n    }\n</style>\n<table border=\"1\" class=\"dataframe\">\n  <thead>\n    <tr style=\"text-align: right;\">\n      <th></th>\n      <th>Order ID</th>\n      <th>Product</th>\n      <th>Quantity Ordered</th>\n      <th>Price Each</th>\n      <th>Order Date</th>\n      <th>Purchase Address</th>\n      <th>Order_Month</th>\n      <th>Order_Hour</th>\n      <th>Order_Day</th>\n      <th>Sale_Value</th>\n      <th>Buyer_State</th>\n      <th>Buyer_City</th>\n    </tr>\n  </thead>\n  <tbody>\n    <tr>\n      <th>0</th>\n      <td>295665</td>\n      <td>Macbook Pro Laptop</td>\n      <td>1.0</td>\n      <td>1700.00</td>\n      <td>2019-12-30 00:01:00</td>\n      <td>136 Church St, New York City, NY 10001</td>\n      <td>12</td>\n      <td>0</td>\n      <td>30</td>\n      <td>1700.00</td>\n      <td>NY</td>\n      <td>New York City</td>\n    </tr>\n    <tr>\n      <th>1</th>\n      <td>295666</td>\n      <td>LG Washing Machine</td>\n      <td>1.0</td>\n      <td>600.00</td>\n      <td>2019-12-29 07:03:00</td>\n      <td>562 2nd St, New York City, NY 10001</td>\n      <td>12</td>\n      <td>7</td>\n      <td>29</td>\n      <td>600.00</td>\n      <td>NY</td>\n      <td>New York City</td>\n    </tr>\n    <tr>\n      <th>2</th>\n      <td>295667</td>\n      <td>USB-C Charging Cable</td>\n      <td>1.0</td>\n      <td>11.95</td>\n      <td>2019-12-12 18:21:00</td>\n      <td>277 Main St, New York City, NY 10001</td>\n      <td>12</td>\n      <td>18</td>\n      <td>12</td>\n      <td>11.95</td>\n      <td>NY</td>\n      <td>New York City</td>\n    </tr>\n    <tr>\n      <th>3</th>\n      <td>295668</td>\n      <td>27in FHD Monitor</td>\n      <td>1.0</td>\n      <td>149.99</td>\n      <td>2019-12-22 15:13:00</td>\n      <td>410 6th St, San Francisco, CA 94016</td>\n      <td>12</td>\n      <td>15</td>\n      <td>22</td>\n      <td>149.99</td>\n      <td>CA</td>\n      <td>San Francisco</td>\n    </tr>\n    <tr>\n      <th>4</th>\n      <td>295669</td>\n      <td>USB-C Charging Cable</td>\n      <td>1.0</td>\n      <td>11.95</td>\n      <td>2019-12-18 12:38:00</td>\n      <td>43 Hill St, Atlanta, GA 30301</td>\n      <td>12</td>\n      <td>12</td>\n      <td>18</td>\n      <td>11.95</td>\n      <td>GA</td>\n      <td>Atlanta</td>\n    </tr>\n  </tbody>\n</table>\n</div>"
     },
     "metadata": {},
     "execution_count": 25
    }
   ],
   "source": [
    "def buyer_city(col):\n",
    "    return col.split(\",\")[1].strip(\" \")\n",
    "\n",
    "df['Buyer_City'] = df['Purchase Address'].apply(buyer_city)\n",
    "df.head()"
   ]
  },
  {
   "cell_type": "markdown",
   "metadata": {},
   "source": [
    "# Creating product classification columns"
   ]
  },
  {
   "cell_type": "code",
   "execution_count": 26,
   "metadata": {},
   "outputs": [
    {
     "output_type": "execute_result",
     "data": {
      "text/plain": [
       "USB-C Charging Cable          21903\n",
       "Lightning Charging Cable      21658\n",
       "AAA Batteries (4-pack)        20641\n",
       "AA Batteries (4-pack)         20577\n",
       "Wired Headphones              18882\n",
       "Apple Airpods Headphones      15549\n",
       "Bose SoundSport Headphones    13325\n",
       "27in FHD Monitor               7507\n",
       "iPhone                         6842\n",
       "27in 4K Gaming Monitor         6230\n",
       "34in Ultrawide Monitor         6181\n",
       "Google Phone                   5525\n",
       "Flatscreen TV                  4800\n",
       "Macbook Pro Laptop             4724\n",
       "ThinkPad Laptop                4128\n",
       "20in Monitor                   4101\n",
       "Vareebadd Phone                2065\n",
       "LG Washing Machine              666\n",
       "LG Dryer                        646\n",
       "Name: Product, dtype: int64"
      ]
     },
     "metadata": {},
     "execution_count": 26
    }
   ],
   "source": [
    "df['Product'].value_counts()"
   ]
  },
  {
   "cell_type": "code",
   "execution_count": 27,
   "metadata": {},
   "outputs": [],
   "source": [
    "# Categorizing product type\n",
    "def product_simplifier(product):\n",
    "    if 'cable' in product.lower():\n",
    "        return 'Cable'\n",
    "    elif 'batteries' in product.lower():\n",
    "        return 'Batteries'\n",
    "    elif 'headphones' in product.lower():\n",
    "        return 'Headphones'\n",
    "    elif 'monitor' in product.lower():\n",
    "        return 'Monitor'\n",
    "    elif 'Phone' in product:\n",
    "        return 'Smartphone'\n",
    "    elif 'laptop' in product.lower():\n",
    "        return 'Computer'\n",
    "    else:\n",
    "        return None\n",
    "\n",
    "df['Product_Simplified'] = df['Product'].apply(product_simplifier)"
   ]
  },
  {
   "cell_type": "code",
   "execution_count": 28,
   "metadata": {},
   "outputs": [
    {
     "output_type": "execute_result",
     "data": {
      "text/plain": [
       "   Order ID               Product  Quantity Ordered  Price Each  \\\n",
       "0    295665    Macbook Pro Laptop               1.0     1700.00   \n",
       "1    295666    LG Washing Machine               1.0      600.00   \n",
       "2    295667  USB-C Charging Cable               1.0       11.95   \n",
       "3    295668      27in FHD Monitor               1.0      149.99   \n",
       "4    295669  USB-C Charging Cable               1.0       11.95   \n",
       "\n",
       "           Order Date                        Purchase Address  Order_Month  \\\n",
       "0 2019-12-30 00:01:00  136 Church St, New York City, NY 10001           12   \n",
       "1 2019-12-29 07:03:00     562 2nd St, New York City, NY 10001           12   \n",
       "2 2019-12-12 18:21:00    277 Main St, New York City, NY 10001           12   \n",
       "3 2019-12-22 15:13:00     410 6th St, San Francisco, CA 94016           12   \n",
       "4 2019-12-18 12:38:00           43 Hill St, Atlanta, GA 30301           12   \n",
       "\n",
       "   Order_Hour  Order_Day  Sale_Value Buyer_State     Buyer_City  \\\n",
       "0           0         30     1700.00          NY  New York City   \n",
       "1           7         29      600.00          NY  New York City   \n",
       "2          18         12       11.95          NY  New York City   \n",
       "3          15         22      149.99          CA  San Francisco   \n",
       "4          12         18       11.95          GA        Atlanta   \n",
       "\n",
       "  Product_Simplified  \n",
       "0           Computer  \n",
       "1               None  \n",
       "2              Cable  \n",
       "3            Monitor  \n",
       "4              Cable  "
      ],
      "text/html": "<div>\n<style scoped>\n    .dataframe tbody tr th:only-of-type {\n        vertical-align: middle;\n    }\n\n    .dataframe tbody tr th {\n        vertical-align: top;\n    }\n\n    .dataframe thead th {\n        text-align: right;\n    }\n</style>\n<table border=\"1\" class=\"dataframe\">\n  <thead>\n    <tr style=\"text-align: right;\">\n      <th></th>\n      <th>Order ID</th>\n      <th>Product</th>\n      <th>Quantity Ordered</th>\n      <th>Price Each</th>\n      <th>Order Date</th>\n      <th>Purchase Address</th>\n      <th>Order_Month</th>\n      <th>Order_Hour</th>\n      <th>Order_Day</th>\n      <th>Sale_Value</th>\n      <th>Buyer_State</th>\n      <th>Buyer_City</th>\n      <th>Product_Simplified</th>\n    </tr>\n  </thead>\n  <tbody>\n    <tr>\n      <th>0</th>\n      <td>295665</td>\n      <td>Macbook Pro Laptop</td>\n      <td>1.0</td>\n      <td>1700.00</td>\n      <td>2019-12-30 00:01:00</td>\n      <td>136 Church St, New York City, NY 10001</td>\n      <td>12</td>\n      <td>0</td>\n      <td>30</td>\n      <td>1700.00</td>\n      <td>NY</td>\n      <td>New York City</td>\n      <td>Computer</td>\n    </tr>\n    <tr>\n      <th>1</th>\n      <td>295666</td>\n      <td>LG Washing Machine</td>\n      <td>1.0</td>\n      <td>600.00</td>\n      <td>2019-12-29 07:03:00</td>\n      <td>562 2nd St, New York City, NY 10001</td>\n      <td>12</td>\n      <td>7</td>\n      <td>29</td>\n      <td>600.00</td>\n      <td>NY</td>\n      <td>New York City</td>\n      <td>None</td>\n    </tr>\n    <tr>\n      <th>2</th>\n      <td>295667</td>\n      <td>USB-C Charging Cable</td>\n      <td>1.0</td>\n      <td>11.95</td>\n      <td>2019-12-12 18:21:00</td>\n      <td>277 Main St, New York City, NY 10001</td>\n      <td>12</td>\n      <td>18</td>\n      <td>12</td>\n      <td>11.95</td>\n      <td>NY</td>\n      <td>New York City</td>\n      <td>Cable</td>\n    </tr>\n    <tr>\n      <th>3</th>\n      <td>295668</td>\n      <td>27in FHD Monitor</td>\n      <td>1.0</td>\n      <td>149.99</td>\n      <td>2019-12-22 15:13:00</td>\n      <td>410 6th St, San Francisco, CA 94016</td>\n      <td>12</td>\n      <td>15</td>\n      <td>22</td>\n      <td>149.99</td>\n      <td>CA</td>\n      <td>San Francisco</td>\n      <td>Monitor</td>\n    </tr>\n    <tr>\n      <th>4</th>\n      <td>295669</td>\n      <td>USB-C Charging Cable</td>\n      <td>1.0</td>\n      <td>11.95</td>\n      <td>2019-12-18 12:38:00</td>\n      <td>43 Hill St, Atlanta, GA 30301</td>\n      <td>12</td>\n      <td>12</td>\n      <td>18</td>\n      <td>11.95</td>\n      <td>GA</td>\n      <td>Atlanta</td>\n      <td>Cable</td>\n    </tr>\n  </tbody>\n</table>\n</div>"
     },
     "metadata": {},
     "execution_count": 28
    }
   ],
   "source": [
    "df.head()"
   ]
  },
  {
   "cell_type": "code",
   "execution_count": 29,
   "metadata": {},
   "outputs": [],
   "source": [
    "# Categorizing product brand\n",
    "def product_brand_simplifier(product):\n",
    "    if 'apple' in product.lower():\n",
    "        return 'Apple'\n",
    "    elif 'bose' in product.lower():\n",
    "        return 'Bose'\n",
    "    elif 'iphone' in product.lower():\n",
    "        return 'Apple'\n",
    "    elif 'google' in product.lower():\n",
    "        return 'Google'\n",
    "    elif 'macbook' in product.lower():\n",
    "        return 'Apple'\n",
    "    elif 'lg' in product.lower():\n",
    "        return 'LG'\n",
    "    elif 'thinkpad' in product.lower():\n",
    "        return 'Thinkpad'\n",
    "    elif 'vareebadd' in product.lower():\n",
    "        return 'Vareebadd'\n",
    "    else:\n",
    "        return None\n",
    "\n",
    "df['Product_Brand_Simplified'] = df['Product'].apply(product_brand_simplifier)"
   ]
  },
  {
   "cell_type": "code",
   "execution_count": 30,
   "metadata": {},
   "outputs": [
    {
     "output_type": "execute_result",
     "data": {
      "text/plain": [
       "   Order ID               Product  Quantity Ordered  Price Each  \\\n",
       "0    295665    Macbook Pro Laptop               1.0     1700.00   \n",
       "1    295666    LG Washing Machine               1.0      600.00   \n",
       "2    295667  USB-C Charging Cable               1.0       11.95   \n",
       "3    295668      27in FHD Monitor               1.0      149.99   \n",
       "4    295669  USB-C Charging Cable               1.0       11.95   \n",
       "\n",
       "           Order Date                        Purchase Address  Order_Month  \\\n",
       "0 2019-12-30 00:01:00  136 Church St, New York City, NY 10001           12   \n",
       "1 2019-12-29 07:03:00     562 2nd St, New York City, NY 10001           12   \n",
       "2 2019-12-12 18:21:00    277 Main St, New York City, NY 10001           12   \n",
       "3 2019-12-22 15:13:00     410 6th St, San Francisco, CA 94016           12   \n",
       "4 2019-12-18 12:38:00           43 Hill St, Atlanta, GA 30301           12   \n",
       "\n",
       "   Order_Hour  Order_Day  Sale_Value Buyer_State     Buyer_City  \\\n",
       "0           0         30     1700.00          NY  New York City   \n",
       "1           7         29      600.00          NY  New York City   \n",
       "2          18         12       11.95          NY  New York City   \n",
       "3          15         22      149.99          CA  San Francisco   \n",
       "4          12         18       11.95          GA        Atlanta   \n",
       "\n",
       "  Product_Simplified Product_Brand_Simplified  \n",
       "0           Computer                    Apple  \n",
       "1               None                       LG  \n",
       "2              Cable                     None  \n",
       "3            Monitor                     None  \n",
       "4              Cable                     None  "
      ],
      "text/html": "<div>\n<style scoped>\n    .dataframe tbody tr th:only-of-type {\n        vertical-align: middle;\n    }\n\n    .dataframe tbody tr th {\n        vertical-align: top;\n    }\n\n    .dataframe thead th {\n        text-align: right;\n    }\n</style>\n<table border=\"1\" class=\"dataframe\">\n  <thead>\n    <tr style=\"text-align: right;\">\n      <th></th>\n      <th>Order ID</th>\n      <th>Product</th>\n      <th>Quantity Ordered</th>\n      <th>Price Each</th>\n      <th>Order Date</th>\n      <th>Purchase Address</th>\n      <th>Order_Month</th>\n      <th>Order_Hour</th>\n      <th>Order_Day</th>\n      <th>Sale_Value</th>\n      <th>Buyer_State</th>\n      <th>Buyer_City</th>\n      <th>Product_Simplified</th>\n      <th>Product_Brand_Simplified</th>\n    </tr>\n  </thead>\n  <tbody>\n    <tr>\n      <th>0</th>\n      <td>295665</td>\n      <td>Macbook Pro Laptop</td>\n      <td>1.0</td>\n      <td>1700.00</td>\n      <td>2019-12-30 00:01:00</td>\n      <td>136 Church St, New York City, NY 10001</td>\n      <td>12</td>\n      <td>0</td>\n      <td>30</td>\n      <td>1700.00</td>\n      <td>NY</td>\n      <td>New York City</td>\n      <td>Computer</td>\n      <td>Apple</td>\n    </tr>\n    <tr>\n      <th>1</th>\n      <td>295666</td>\n      <td>LG Washing Machine</td>\n      <td>1.0</td>\n      <td>600.00</td>\n      <td>2019-12-29 07:03:00</td>\n      <td>562 2nd St, New York City, NY 10001</td>\n      <td>12</td>\n      <td>7</td>\n      <td>29</td>\n      <td>600.00</td>\n      <td>NY</td>\n      <td>New York City</td>\n      <td>None</td>\n      <td>LG</td>\n    </tr>\n    <tr>\n      <th>2</th>\n      <td>295667</td>\n      <td>USB-C Charging Cable</td>\n      <td>1.0</td>\n      <td>11.95</td>\n      <td>2019-12-12 18:21:00</td>\n      <td>277 Main St, New York City, NY 10001</td>\n      <td>12</td>\n      <td>18</td>\n      <td>12</td>\n      <td>11.95</td>\n      <td>NY</td>\n      <td>New York City</td>\n      <td>Cable</td>\n      <td>None</td>\n    </tr>\n    <tr>\n      <th>3</th>\n      <td>295668</td>\n      <td>27in FHD Monitor</td>\n      <td>1.0</td>\n      <td>149.99</td>\n      <td>2019-12-22 15:13:00</td>\n      <td>410 6th St, San Francisco, CA 94016</td>\n      <td>12</td>\n      <td>15</td>\n      <td>22</td>\n      <td>149.99</td>\n      <td>CA</td>\n      <td>San Francisco</td>\n      <td>Monitor</td>\n      <td>None</td>\n    </tr>\n    <tr>\n      <th>4</th>\n      <td>295669</td>\n      <td>USB-C Charging Cable</td>\n      <td>1.0</td>\n      <td>11.95</td>\n      <td>2019-12-18 12:38:00</td>\n      <td>43 Hill St, Atlanta, GA 30301</td>\n      <td>12</td>\n      <td>12</td>\n      <td>18</td>\n      <td>11.95</td>\n      <td>GA</td>\n      <td>Atlanta</td>\n      <td>Cable</td>\n      <td>None</td>\n    </tr>\n  </tbody>\n</table>\n</div>"
     },
     "metadata": {},
     "execution_count": 30
    }
   ],
   "source": [
    "df.head()"
   ]
  },
  {
   "cell_type": "code",
   "execution_count": 32,
   "metadata": {},
   "outputs": [
    {
     "output_type": "execute_result",
     "data": {
      "text/plain": [
       "Order ID                             int64\n",
       "Product                             object\n",
       "Quantity Ordered                   float64\n",
       "Price Each                         float64\n",
       "Order Date                  datetime64[ns]\n",
       "Purchase Address                    object\n",
       "Order_Month                          int64\n",
       "Order_Hour                           int64\n",
       "Order_Day                            int64\n",
       "Sale_Value                         float64\n",
       "Buyer_State                         object\n",
       "Buyer_City                          object\n",
       "Product_Simplified                  object\n",
       "Product_Brand_Simplified            object\n",
       "dtype: object"
      ]
     },
     "metadata": {},
     "execution_count": 32
    }
   ],
   "source": [
    "df.dtypes"
   ]
  },
  {
   "cell_type": "code",
   "execution_count": 31,
   "metadata": {
    "tags": []
   },
   "outputs": [
    {
     "output_type": "stream",
     "name": "stdout",
     "text": [
      "Exported to csv as \"featured_data.csv\"\n"
     ]
    }
   ],
   "source": [
    "df.to_csv('featured_data.csv', index = False)\n",
    "print('Exported to csv as \"featured_data.csv\"')"
   ]
  }
 ]
}