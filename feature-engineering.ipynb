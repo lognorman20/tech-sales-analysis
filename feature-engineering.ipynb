{
 "metadata": {
  "language_info": {
   "codemirror_mode": {
    "name": "ipython",
    "version": 3
   },
   "file_extension": ".py",
   "mimetype": "text/x-python",
   "name": "python",
   "nbconvert_exporter": "python",
   "pygments_lexer": "ipython3",
   "version": "3.8.5-final"
  },
  "orig_nbformat": 2,
  "kernelspec": {
   "name": "python_defaultSpec_1599458947943",
   "display_name": "Python 3.8.5 64-bit"
  }
 },
 "nbformat": 4,
 "nbformat_minor": 2,
 "cells": [
  {
   "cell_type": "code",
   "execution_count": 76,
   "metadata": {},
   "outputs": [],
   "source": [
    "import pandas as pd\n",
    "import numpy as np\n",
    "import seaborn as sns\n",
    "import matplotlib.pyplot as plt\n",
    "import matplotlib.ticker as plticker\n",
    "%matplotlib inline"
   ]
  },
  {
   "cell_type": "code",
   "execution_count": 77,
   "metadata": {},
   "outputs": [
    {
     "output_type": "execute_result",
     "data": {
      "text/plain": "                Product  Quantity Ordered  Price Each           Order Date  \\\n0    Macbook Pro Laptop               1.0     1700.00  2019-12-30 00:01:00   \n1    LG Washing Machine               1.0      600.00  2019-12-29 07:03:00   \n2  USB-C Charging Cable               1.0       11.95  2019-12-12 18:21:00   \n3      27in FHD Monitor               1.0      149.99  2019-12-22 15:13:00   \n4  USB-C Charging Cable               1.0       11.95  2019-12-18 12:38:00   \n\n                         Purchase Address  \n0  136 Church St, New York City, NY 10001  \n1     562 2nd St, New York City, NY 10001  \n2    277 Main St, New York City, NY 10001  \n3     410 6th St, San Francisco, CA 94016  \n4           43 Hill St, Atlanta, GA 30301  ",
      "text/html": "<div>\n<style scoped>\n    .dataframe tbody tr th:only-of-type {\n        vertical-align: middle;\n    }\n\n    .dataframe tbody tr th {\n        vertical-align: top;\n    }\n\n    .dataframe thead th {\n        text-align: right;\n    }\n</style>\n<table border=\"1\" class=\"dataframe\">\n  <thead>\n    <tr style=\"text-align: right;\">\n      <th></th>\n      <th>Product</th>\n      <th>Quantity Ordered</th>\n      <th>Price Each</th>\n      <th>Order Date</th>\n      <th>Purchase Address</th>\n    </tr>\n  </thead>\n  <tbody>\n    <tr>\n      <th>0</th>\n      <td>Macbook Pro Laptop</td>\n      <td>1.0</td>\n      <td>1700.00</td>\n      <td>2019-12-30 00:01:00</td>\n      <td>136 Church St, New York City, NY 10001</td>\n    </tr>\n    <tr>\n      <th>1</th>\n      <td>LG Washing Machine</td>\n      <td>1.0</td>\n      <td>600.00</td>\n      <td>2019-12-29 07:03:00</td>\n      <td>562 2nd St, New York City, NY 10001</td>\n    </tr>\n    <tr>\n      <th>2</th>\n      <td>USB-C Charging Cable</td>\n      <td>1.0</td>\n      <td>11.95</td>\n      <td>2019-12-12 18:21:00</td>\n      <td>277 Main St, New York City, NY 10001</td>\n    </tr>\n    <tr>\n      <th>3</th>\n      <td>27in FHD Monitor</td>\n      <td>1.0</td>\n      <td>149.99</td>\n      <td>2019-12-22 15:13:00</td>\n      <td>410 6th St, San Francisco, CA 94016</td>\n    </tr>\n    <tr>\n      <th>4</th>\n      <td>USB-C Charging Cable</td>\n      <td>1.0</td>\n      <td>11.95</td>\n      <td>2019-12-18 12:38:00</td>\n      <td>43 Hill St, Atlanta, GA 30301</td>\n    </tr>\n  </tbody>\n</table>\n</div>"
     },
     "metadata": {},
     "execution_count": 77
    }
   ],
   "source": [
    "# Reading in the cleaned data\n",
    "df = pd.read_csv('cleaned_sales_data.csv', index_col= None)\n",
    "df.head()"
   ]
  },
  {
   "cell_type": "markdown",
   "metadata": {},
   "source": [
    "# Adding a columns for order times (month, day, hour)"
   ]
  },
  {
   "cell_type": "code",
   "execution_count": 78,
   "metadata": {},
   "outputs": [
    {
     "output_type": "execute_result",
     "data": {
      "text/plain": "                Product  Quantity Ordered  Price Each           Order Date  \\\n0    Macbook Pro Laptop               1.0     1700.00  2019-12-30 00:01:00   \n1    LG Washing Machine               1.0      600.00  2019-12-29 07:03:00   \n2  USB-C Charging Cable               1.0       11.95  2019-12-12 18:21:00   \n3      27in FHD Monitor               1.0      149.99  2019-12-22 15:13:00   \n4  USB-C Charging Cable               1.0       11.95  2019-12-18 12:38:00   \n\n                         Purchase Address  Order_Month  \n0  136 Church St, New York City, NY 10001           12  \n1     562 2nd St, New York City, NY 10001           12  \n2    277 Main St, New York City, NY 10001           12  \n3     410 6th St, San Francisco, CA 94016           12  \n4           43 Hill St, Atlanta, GA 30301           12  ",
      "text/html": "<div>\n<style scoped>\n    .dataframe tbody tr th:only-of-type {\n        vertical-align: middle;\n    }\n\n    .dataframe tbody tr th {\n        vertical-align: top;\n    }\n\n    .dataframe thead th {\n        text-align: right;\n    }\n</style>\n<table border=\"1\" class=\"dataframe\">\n  <thead>\n    <tr style=\"text-align: right;\">\n      <th></th>\n      <th>Product</th>\n      <th>Quantity Ordered</th>\n      <th>Price Each</th>\n      <th>Order Date</th>\n      <th>Purchase Address</th>\n      <th>Order_Month</th>\n    </tr>\n  </thead>\n  <tbody>\n    <tr>\n      <th>0</th>\n      <td>Macbook Pro Laptop</td>\n      <td>1.0</td>\n      <td>1700.00</td>\n      <td>2019-12-30 00:01:00</td>\n      <td>136 Church St, New York City, NY 10001</td>\n      <td>12</td>\n    </tr>\n    <tr>\n      <th>1</th>\n      <td>LG Washing Machine</td>\n      <td>1.0</td>\n      <td>600.00</td>\n      <td>2019-12-29 07:03:00</td>\n      <td>562 2nd St, New York City, NY 10001</td>\n      <td>12</td>\n    </tr>\n    <tr>\n      <th>2</th>\n      <td>USB-C Charging Cable</td>\n      <td>1.0</td>\n      <td>11.95</td>\n      <td>2019-12-12 18:21:00</td>\n      <td>277 Main St, New York City, NY 10001</td>\n      <td>12</td>\n    </tr>\n    <tr>\n      <th>3</th>\n      <td>27in FHD Monitor</td>\n      <td>1.0</td>\n      <td>149.99</td>\n      <td>2019-12-22 15:13:00</td>\n      <td>410 6th St, San Francisco, CA 94016</td>\n      <td>12</td>\n    </tr>\n    <tr>\n      <th>4</th>\n      <td>USB-C Charging Cable</td>\n      <td>1.0</td>\n      <td>11.95</td>\n      <td>2019-12-18 12:38:00</td>\n      <td>43 Hill St, Atlanta, GA 30301</td>\n      <td>12</td>\n    </tr>\n  </tbody>\n</table>\n</div>"
     },
     "metadata": {},
     "execution_count": 78
    }
   ],
   "source": [
    "df['Order_Month'] = pd.DatetimeIndex(df['Order Date']).month\n",
    "df.head()"
   ]
  },
  {
   "cell_type": "code",
   "execution_count": 79,
   "metadata": {},
   "outputs": [
    {
     "output_type": "execute_result",
     "data": {
      "text/plain": "                Product  Quantity Ordered  Price Each           Order Date  \\\n0    Macbook Pro Laptop               1.0     1700.00  2019-12-30 00:01:00   \n1    LG Washing Machine               1.0      600.00  2019-12-29 07:03:00   \n2  USB-C Charging Cable               1.0       11.95  2019-12-12 18:21:00   \n3      27in FHD Monitor               1.0      149.99  2019-12-22 15:13:00   \n4  USB-C Charging Cable               1.0       11.95  2019-12-18 12:38:00   \n\n                         Purchase Address  Order_Month  Order_Hour  \n0  136 Church St, New York City, NY 10001           12           0  \n1     562 2nd St, New York City, NY 10001           12           7  \n2    277 Main St, New York City, NY 10001           12          18  \n3     410 6th St, San Francisco, CA 94016           12          15  \n4           43 Hill St, Atlanta, GA 30301           12          12  ",
      "text/html": "<div>\n<style scoped>\n    .dataframe tbody tr th:only-of-type {\n        vertical-align: middle;\n    }\n\n    .dataframe tbody tr th {\n        vertical-align: top;\n    }\n\n    .dataframe thead th {\n        text-align: right;\n    }\n</style>\n<table border=\"1\" class=\"dataframe\">\n  <thead>\n    <tr style=\"text-align: right;\">\n      <th></th>\n      <th>Product</th>\n      <th>Quantity Ordered</th>\n      <th>Price Each</th>\n      <th>Order Date</th>\n      <th>Purchase Address</th>\n      <th>Order_Month</th>\n      <th>Order_Hour</th>\n    </tr>\n  </thead>\n  <tbody>\n    <tr>\n      <th>0</th>\n      <td>Macbook Pro Laptop</td>\n      <td>1.0</td>\n      <td>1700.00</td>\n      <td>2019-12-30 00:01:00</td>\n      <td>136 Church St, New York City, NY 10001</td>\n      <td>12</td>\n      <td>0</td>\n    </tr>\n    <tr>\n      <th>1</th>\n      <td>LG Washing Machine</td>\n      <td>1.0</td>\n      <td>600.00</td>\n      <td>2019-12-29 07:03:00</td>\n      <td>562 2nd St, New York City, NY 10001</td>\n      <td>12</td>\n      <td>7</td>\n    </tr>\n    <tr>\n      <th>2</th>\n      <td>USB-C Charging Cable</td>\n      <td>1.0</td>\n      <td>11.95</td>\n      <td>2019-12-12 18:21:00</td>\n      <td>277 Main St, New York City, NY 10001</td>\n      <td>12</td>\n      <td>18</td>\n    </tr>\n    <tr>\n      <th>3</th>\n      <td>27in FHD Monitor</td>\n      <td>1.0</td>\n      <td>149.99</td>\n      <td>2019-12-22 15:13:00</td>\n      <td>410 6th St, San Francisco, CA 94016</td>\n      <td>12</td>\n      <td>15</td>\n    </tr>\n    <tr>\n      <th>4</th>\n      <td>USB-C Charging Cable</td>\n      <td>1.0</td>\n      <td>11.95</td>\n      <td>2019-12-18 12:38:00</td>\n      <td>43 Hill St, Atlanta, GA 30301</td>\n      <td>12</td>\n      <td>12</td>\n    </tr>\n  </tbody>\n</table>\n</div>"
     },
     "metadata": {},
     "execution_count": 79
    }
   ],
   "source": [
    "df['Order_Hour'] = pd.DatetimeIndex(df['Order Date']).hour\n",
    "df.head()"
   ]
  },
  {
   "cell_type": "code",
   "execution_count": 80,
   "metadata": {},
   "outputs": [
    {
     "output_type": "execute_result",
     "data": {
      "text/plain": "                Product  Quantity Ordered  Price Each           Order Date  \\\n0    Macbook Pro Laptop               1.0     1700.00  2019-12-30 00:01:00   \n1    LG Washing Machine               1.0      600.00  2019-12-29 07:03:00   \n2  USB-C Charging Cable               1.0       11.95  2019-12-12 18:21:00   \n3      27in FHD Monitor               1.0      149.99  2019-12-22 15:13:00   \n4  USB-C Charging Cable               1.0       11.95  2019-12-18 12:38:00   \n\n                         Purchase Address  Order_Month  Order_Hour  Order_Day  \n0  136 Church St, New York City, NY 10001           12           0         30  \n1     562 2nd St, New York City, NY 10001           12           7         29  \n2    277 Main St, New York City, NY 10001           12          18         12  \n3     410 6th St, San Francisco, CA 94016           12          15         22  \n4           43 Hill St, Atlanta, GA 30301           12          12         18  ",
      "text/html": "<div>\n<style scoped>\n    .dataframe tbody tr th:only-of-type {\n        vertical-align: middle;\n    }\n\n    .dataframe tbody tr th {\n        vertical-align: top;\n    }\n\n    .dataframe thead th {\n        text-align: right;\n    }\n</style>\n<table border=\"1\" class=\"dataframe\">\n  <thead>\n    <tr style=\"text-align: right;\">\n      <th></th>\n      <th>Product</th>\n      <th>Quantity Ordered</th>\n      <th>Price Each</th>\n      <th>Order Date</th>\n      <th>Purchase Address</th>\n      <th>Order_Month</th>\n      <th>Order_Hour</th>\n      <th>Order_Day</th>\n    </tr>\n  </thead>\n  <tbody>\n    <tr>\n      <th>0</th>\n      <td>Macbook Pro Laptop</td>\n      <td>1.0</td>\n      <td>1700.00</td>\n      <td>2019-12-30 00:01:00</td>\n      <td>136 Church St, New York City, NY 10001</td>\n      <td>12</td>\n      <td>0</td>\n      <td>30</td>\n    </tr>\n    <tr>\n      <th>1</th>\n      <td>LG Washing Machine</td>\n      <td>1.0</td>\n      <td>600.00</td>\n      <td>2019-12-29 07:03:00</td>\n      <td>562 2nd St, New York City, NY 10001</td>\n      <td>12</td>\n      <td>7</td>\n      <td>29</td>\n    </tr>\n    <tr>\n      <th>2</th>\n      <td>USB-C Charging Cable</td>\n      <td>1.0</td>\n      <td>11.95</td>\n      <td>2019-12-12 18:21:00</td>\n      <td>277 Main St, New York City, NY 10001</td>\n      <td>12</td>\n      <td>18</td>\n      <td>12</td>\n    </tr>\n    <tr>\n      <th>3</th>\n      <td>27in FHD Monitor</td>\n      <td>1.0</td>\n      <td>149.99</td>\n      <td>2019-12-22 15:13:00</td>\n      <td>410 6th St, San Francisco, CA 94016</td>\n      <td>12</td>\n      <td>15</td>\n      <td>22</td>\n    </tr>\n    <tr>\n      <th>4</th>\n      <td>USB-C Charging Cable</td>\n      <td>1.0</td>\n      <td>11.95</td>\n      <td>2019-12-18 12:38:00</td>\n      <td>43 Hill St, Atlanta, GA 30301</td>\n      <td>12</td>\n      <td>12</td>\n      <td>18</td>\n    </tr>\n  </tbody>\n</table>\n</div>"
     },
     "metadata": {},
     "execution_count": 80
    }
   ],
   "source": [
    "df['Order_Day'] = pd.DatetimeIndex(df['Order Date']).day\n",
    "df.head()"
   ]
  },
  {
   "cell_type": "markdown",
   "metadata": {},
   "source": [
    "# Adding a sale value column"
   ]
  },
  {
   "cell_type": "code",
   "execution_count": 81,
   "metadata": {},
   "outputs": [
    {
     "output_type": "execute_result",
     "data": {
      "text/plain": "                Product  Quantity Ordered  Price Each           Order Date  \\\n0    Macbook Pro Laptop               1.0     1700.00  2019-12-30 00:01:00   \n1    LG Washing Machine               1.0      600.00  2019-12-29 07:03:00   \n2  USB-C Charging Cable               1.0       11.95  2019-12-12 18:21:00   \n3      27in FHD Monitor               1.0      149.99  2019-12-22 15:13:00   \n4  USB-C Charging Cable               1.0       11.95  2019-12-18 12:38:00   \n\n                         Purchase Address  Order_Month  Order_Hour  Order_Day  \\\n0  136 Church St, New York City, NY 10001           12           0         30   \n1     562 2nd St, New York City, NY 10001           12           7         29   \n2    277 Main St, New York City, NY 10001           12          18         12   \n3     410 6th St, San Francisco, CA 94016           12          15         22   \n4           43 Hill St, Atlanta, GA 30301           12          12         18   \n\n   Sale_Value  \n0     1700.00  \n1      600.00  \n2       11.95  \n3      149.99  \n4       11.95  ",
      "text/html": "<div>\n<style scoped>\n    .dataframe tbody tr th:only-of-type {\n        vertical-align: middle;\n    }\n\n    .dataframe tbody tr th {\n        vertical-align: top;\n    }\n\n    .dataframe thead th {\n        text-align: right;\n    }\n</style>\n<table border=\"1\" class=\"dataframe\">\n  <thead>\n    <tr style=\"text-align: right;\">\n      <th></th>\n      <th>Product</th>\n      <th>Quantity Ordered</th>\n      <th>Price Each</th>\n      <th>Order Date</th>\n      <th>Purchase Address</th>\n      <th>Order_Month</th>\n      <th>Order_Hour</th>\n      <th>Order_Day</th>\n      <th>Sale_Value</th>\n    </tr>\n  </thead>\n  <tbody>\n    <tr>\n      <th>0</th>\n      <td>Macbook Pro Laptop</td>\n      <td>1.0</td>\n      <td>1700.00</td>\n      <td>2019-12-30 00:01:00</td>\n      <td>136 Church St, New York City, NY 10001</td>\n      <td>12</td>\n      <td>0</td>\n      <td>30</td>\n      <td>1700.00</td>\n    </tr>\n    <tr>\n      <th>1</th>\n      <td>LG Washing Machine</td>\n      <td>1.0</td>\n      <td>600.00</td>\n      <td>2019-12-29 07:03:00</td>\n      <td>562 2nd St, New York City, NY 10001</td>\n      <td>12</td>\n      <td>7</td>\n      <td>29</td>\n      <td>600.00</td>\n    </tr>\n    <tr>\n      <th>2</th>\n      <td>USB-C Charging Cable</td>\n      <td>1.0</td>\n      <td>11.95</td>\n      <td>2019-12-12 18:21:00</td>\n      <td>277 Main St, New York City, NY 10001</td>\n      <td>12</td>\n      <td>18</td>\n      <td>12</td>\n      <td>11.95</td>\n    </tr>\n    <tr>\n      <th>3</th>\n      <td>27in FHD Monitor</td>\n      <td>1.0</td>\n      <td>149.99</td>\n      <td>2019-12-22 15:13:00</td>\n      <td>410 6th St, San Francisco, CA 94016</td>\n      <td>12</td>\n      <td>15</td>\n      <td>22</td>\n      <td>149.99</td>\n    </tr>\n    <tr>\n      <th>4</th>\n      <td>USB-C Charging Cable</td>\n      <td>1.0</td>\n      <td>11.95</td>\n      <td>2019-12-18 12:38:00</td>\n      <td>43 Hill St, Atlanta, GA 30301</td>\n      <td>12</td>\n      <td>12</td>\n      <td>18</td>\n      <td>11.95</td>\n    </tr>\n  </tbody>\n</table>\n</div>"
     },
     "metadata": {},
     "execution_count": 81
    }
   ],
   "source": [
    "df['Sale_Value'] = df['Quantity Ordered'] * df['Price Each']\n",
    "df.head()"
   ]
  },
  {
   "cell_type": "code",
   "execution_count": 82,
   "metadata": {},
   "outputs": [
    {
     "output_type": "execute_result",
     "data": {
      "text/plain": "Product              object\nQuantity Ordered    float64\nPrice Each          float64\nOrder Date           object\nPurchase Address     object\nOrder_Month           int64\nOrder_Hour            int64\nOrder_Day             int64\nSale_Value          float64\ndtype: object"
     },
     "metadata": {},
     "execution_count": 82
    }
   ],
   "source": [
    "# Making sure all values are the correct dtype\n",
    "df.dtypes"
   ]
  },
  {
   "cell_type": "markdown",
   "metadata": {},
   "source": [
    "# Adding a buyer state column"
   ]
  },
  {
   "cell_type": "code",
   "execution_count": 83,
   "metadata": {},
   "outputs": [
    {
     "output_type": "execute_result",
     "data": {
      "text/plain": "                Product  Quantity Ordered  Price Each           Order Date  \\\n0    Macbook Pro Laptop               1.0     1700.00  2019-12-30 00:01:00   \n1    LG Washing Machine               1.0      600.00  2019-12-29 07:03:00   \n2  USB-C Charging Cable               1.0       11.95  2019-12-12 18:21:00   \n3      27in FHD Monitor               1.0      149.99  2019-12-22 15:13:00   \n4  USB-C Charging Cable               1.0       11.95  2019-12-18 12:38:00   \n\n                         Purchase Address  Order_Month  Order_Hour  Order_Day  \\\n0  136 Church St, New York City, NY 10001           12           0         30   \n1     562 2nd St, New York City, NY 10001           12           7         29   \n2    277 Main St, New York City, NY 10001           12          18         12   \n3     410 6th St, San Francisco, CA 94016           12          15         22   \n4           43 Hill St, Atlanta, GA 30301           12          12         18   \n\n   Sale_Value Buyer_State  \n0     1700.00          NY  \n1      600.00          NY  \n2       11.95          NY  \n3      149.99          CA  \n4       11.95          GA  ",
      "text/html": "<div>\n<style scoped>\n    .dataframe tbody tr th:only-of-type {\n        vertical-align: middle;\n    }\n\n    .dataframe tbody tr th {\n        vertical-align: top;\n    }\n\n    .dataframe thead th {\n        text-align: right;\n    }\n</style>\n<table border=\"1\" class=\"dataframe\">\n  <thead>\n    <tr style=\"text-align: right;\">\n      <th></th>\n      <th>Product</th>\n      <th>Quantity Ordered</th>\n      <th>Price Each</th>\n      <th>Order Date</th>\n      <th>Purchase Address</th>\n      <th>Order_Month</th>\n      <th>Order_Hour</th>\n      <th>Order_Day</th>\n      <th>Sale_Value</th>\n      <th>Buyer_State</th>\n    </tr>\n  </thead>\n  <tbody>\n    <tr>\n      <th>0</th>\n      <td>Macbook Pro Laptop</td>\n      <td>1.0</td>\n      <td>1700.00</td>\n      <td>2019-12-30 00:01:00</td>\n      <td>136 Church St, New York City, NY 10001</td>\n      <td>12</td>\n      <td>0</td>\n      <td>30</td>\n      <td>1700.00</td>\n      <td>NY</td>\n    </tr>\n    <tr>\n      <th>1</th>\n      <td>LG Washing Machine</td>\n      <td>1.0</td>\n      <td>600.00</td>\n      <td>2019-12-29 07:03:00</td>\n      <td>562 2nd St, New York City, NY 10001</td>\n      <td>12</td>\n      <td>7</td>\n      <td>29</td>\n      <td>600.00</td>\n      <td>NY</td>\n    </tr>\n    <tr>\n      <th>2</th>\n      <td>USB-C Charging Cable</td>\n      <td>1.0</td>\n      <td>11.95</td>\n      <td>2019-12-12 18:21:00</td>\n      <td>277 Main St, New York City, NY 10001</td>\n      <td>12</td>\n      <td>18</td>\n      <td>12</td>\n      <td>11.95</td>\n      <td>NY</td>\n    </tr>\n    <tr>\n      <th>3</th>\n      <td>27in FHD Monitor</td>\n      <td>1.0</td>\n      <td>149.99</td>\n      <td>2019-12-22 15:13:00</td>\n      <td>410 6th St, San Francisco, CA 94016</td>\n      <td>12</td>\n      <td>15</td>\n      <td>22</td>\n      <td>149.99</td>\n      <td>CA</td>\n    </tr>\n    <tr>\n      <th>4</th>\n      <td>USB-C Charging Cable</td>\n      <td>1.0</td>\n      <td>11.95</td>\n      <td>2019-12-18 12:38:00</td>\n      <td>43 Hill St, Atlanta, GA 30301</td>\n      <td>12</td>\n      <td>12</td>\n      <td>18</td>\n      <td>11.95</td>\n      <td>GA</td>\n    </tr>\n  </tbody>\n</table>\n</div>"
     },
     "metadata": {},
     "execution_count": 83
    }
   ],
   "source": [
    "df['Buyer_State'] = df['Purchase Address'].str.slice(start= -8, stop= -6)\n",
    "df.head()"
   ]
  },
  {
   "cell_type": "markdown",
   "metadata": {},
   "source": [
    "# Adding a buyer city column"
   ]
  },
  {
   "cell_type": "code",
   "execution_count": 84,
   "metadata": {},
   "outputs": [
    {
     "output_type": "execute_result",
     "data": {
      "text/plain": "                Product  Quantity Ordered  Price Each           Order Date  \\\n0    Macbook Pro Laptop               1.0     1700.00  2019-12-30 00:01:00   \n1    LG Washing Machine               1.0      600.00  2019-12-29 07:03:00   \n2  USB-C Charging Cable               1.0       11.95  2019-12-12 18:21:00   \n3      27in FHD Monitor               1.0      149.99  2019-12-22 15:13:00   \n4  USB-C Charging Cable               1.0       11.95  2019-12-18 12:38:00   \n\n                         Purchase Address  Order_Month  Order_Hour  Order_Day  \\\n0  136 Church St, New York City, NY 10001           12           0         30   \n1     562 2nd St, New York City, NY 10001           12           7         29   \n2    277 Main St, New York City, NY 10001           12          18         12   \n3     410 6th St, San Francisco, CA 94016           12          15         22   \n4           43 Hill St, Atlanta, GA 30301           12          12         18   \n\n   Sale_Value Buyer_State     Buyer_City  \n0     1700.00          NY  New York City  \n1      600.00          NY  New York City  \n2       11.95          NY  New York City  \n3      149.99          CA  San Francisco  \n4       11.95          GA        Atlanta  ",
      "text/html": "<div>\n<style scoped>\n    .dataframe tbody tr th:only-of-type {\n        vertical-align: middle;\n    }\n\n    .dataframe tbody tr th {\n        vertical-align: top;\n    }\n\n    .dataframe thead th {\n        text-align: right;\n    }\n</style>\n<table border=\"1\" class=\"dataframe\">\n  <thead>\n    <tr style=\"text-align: right;\">\n      <th></th>\n      <th>Product</th>\n      <th>Quantity Ordered</th>\n      <th>Price Each</th>\n      <th>Order Date</th>\n      <th>Purchase Address</th>\n      <th>Order_Month</th>\n      <th>Order_Hour</th>\n      <th>Order_Day</th>\n      <th>Sale_Value</th>\n      <th>Buyer_State</th>\n      <th>Buyer_City</th>\n    </tr>\n  </thead>\n  <tbody>\n    <tr>\n      <th>0</th>\n      <td>Macbook Pro Laptop</td>\n      <td>1.0</td>\n      <td>1700.00</td>\n      <td>2019-12-30 00:01:00</td>\n      <td>136 Church St, New York City, NY 10001</td>\n      <td>12</td>\n      <td>0</td>\n      <td>30</td>\n      <td>1700.00</td>\n      <td>NY</td>\n      <td>New York City</td>\n    </tr>\n    <tr>\n      <th>1</th>\n      <td>LG Washing Machine</td>\n      <td>1.0</td>\n      <td>600.00</td>\n      <td>2019-12-29 07:03:00</td>\n      <td>562 2nd St, New York City, NY 10001</td>\n      <td>12</td>\n      <td>7</td>\n      <td>29</td>\n      <td>600.00</td>\n      <td>NY</td>\n      <td>New York City</td>\n    </tr>\n    <tr>\n      <th>2</th>\n      <td>USB-C Charging Cable</td>\n      <td>1.0</td>\n      <td>11.95</td>\n      <td>2019-12-12 18:21:00</td>\n      <td>277 Main St, New York City, NY 10001</td>\n      <td>12</td>\n      <td>18</td>\n      <td>12</td>\n      <td>11.95</td>\n      <td>NY</td>\n      <td>New York City</td>\n    </tr>\n    <tr>\n      <th>3</th>\n      <td>27in FHD Monitor</td>\n      <td>1.0</td>\n      <td>149.99</td>\n      <td>2019-12-22 15:13:00</td>\n      <td>410 6th St, San Francisco, CA 94016</td>\n      <td>12</td>\n      <td>15</td>\n      <td>22</td>\n      <td>149.99</td>\n      <td>CA</td>\n      <td>San Francisco</td>\n    </tr>\n    <tr>\n      <th>4</th>\n      <td>USB-C Charging Cable</td>\n      <td>1.0</td>\n      <td>11.95</td>\n      <td>2019-12-18 12:38:00</td>\n      <td>43 Hill St, Atlanta, GA 30301</td>\n      <td>12</td>\n      <td>12</td>\n      <td>18</td>\n      <td>11.95</td>\n      <td>GA</td>\n      <td>Atlanta</td>\n    </tr>\n  </tbody>\n</table>\n</div>"
     },
     "metadata": {},
     "execution_count": 84
    }
   ],
   "source": [
    "def buyer_city(col):\n",
    "    return col.split(\",\")[1].strip(\" \")\n",
    "\n",
    "df['Buyer_City'] = df['Purchase Address'].apply(buyer_city)\n",
    "df.head()"
   ]
  },
  {
   "cell_type": "markdown",
   "metadata": {},
   "source": [
    "# Creating product classification columns"
   ]
  },
  {
   "cell_type": "code",
   "execution_count": 85,
   "metadata": {},
   "outputs": [
    {
     "output_type": "execute_result",
     "data": {
      "text/plain": "USB-C Charging Cable          21903\nLightning Charging Cable      21658\nAAA Batteries (4-pack)        20641\nAA Batteries (4-pack)         20577\nWired Headphones              18882\nApple Airpods Headphones      15549\nBose SoundSport Headphones    13325\n27in FHD Monitor               7507\niPhone                         6842\n27in 4K Gaming Monitor         6230\n34in Ultrawide Monitor         6181\nGoogle Phone                   5525\nFlatscreen TV                  4800\nMacbook Pro Laptop             4724\nThinkPad Laptop                4128\n20in Monitor                   4101\nVareebadd Phone                2065\nLG Washing Machine              666\nLG Dryer                        646\nName: Product, dtype: int64"
     },
     "metadata": {},
     "execution_count": 85
    }
   ],
   "source": [
    "df['Product'].value_counts()"
   ]
  },
  {
   "cell_type": "code",
   "execution_count": 90,
   "metadata": {},
   "outputs": [],
   "source": [
    "# Categorizing product type\n",
    "def product_simplifier(product):\n",
    "    if 'cable' in product.lower():\n",
    "        return 'Cable'\n",
    "    elif 'batteries' in product.lower():\n",
    "        return 'Batteries'\n",
    "    elif 'headphones' in product.lower():\n",
    "        return 'Headphones'\n",
    "    elif 'monitor' in product.lower():\n",
    "        return 'Monitor'\n",
    "    elif 'Phone' in product:\n",
    "        return 'Smartphone'\n",
    "    elif 'laptop' in product.lower():\n",
    "        return 'Computer'\n",
    "    else:\n",
    "        return None\n",
    "\n",
    "df['Product_Simplified'] = df['Product'].apply(product_simplifier)"
   ]
  },
  {
   "cell_type": "code",
   "execution_count": 93,
   "metadata": {},
   "outputs": [
    {
     "output_type": "execute_result",
     "data": {
      "text/plain": "                Product  Quantity Ordered  Price Each           Order Date  \\\n0    Macbook Pro Laptop               1.0     1700.00  2019-12-30 00:01:00   \n1    LG Washing Machine               1.0      600.00  2019-12-29 07:03:00   \n2  USB-C Charging Cable               1.0       11.95  2019-12-12 18:21:00   \n3      27in FHD Monitor               1.0      149.99  2019-12-22 15:13:00   \n4  USB-C Charging Cable               1.0       11.95  2019-12-18 12:38:00   \n\n                         Purchase Address  Order_Month  Order_Hour  Order_Day  \\\n0  136 Church St, New York City, NY 10001           12           0         30   \n1     562 2nd St, New York City, NY 10001           12           7         29   \n2    277 Main St, New York City, NY 10001           12          18         12   \n3     410 6th St, San Francisco, CA 94016           12          15         22   \n4           43 Hill St, Atlanta, GA 30301           12          12         18   \n\n   Sale_Value Buyer_State     Buyer_City Product_Simplified  \n0     1700.00          NY  New York City           Computer  \n1      600.00          NY  New York City               None  \n2       11.95          NY  New York City              Cable  \n3      149.99          CA  San Francisco            Monitor  \n4       11.95          GA        Atlanta              Cable  ",
      "text/html": "<div>\n<style scoped>\n    .dataframe tbody tr th:only-of-type {\n        vertical-align: middle;\n    }\n\n    .dataframe tbody tr th {\n        vertical-align: top;\n    }\n\n    .dataframe thead th {\n        text-align: right;\n    }\n</style>\n<table border=\"1\" class=\"dataframe\">\n  <thead>\n    <tr style=\"text-align: right;\">\n      <th></th>\n      <th>Product</th>\n      <th>Quantity Ordered</th>\n      <th>Price Each</th>\n      <th>Order Date</th>\n      <th>Purchase Address</th>\n      <th>Order_Month</th>\n      <th>Order_Hour</th>\n      <th>Order_Day</th>\n      <th>Sale_Value</th>\n      <th>Buyer_State</th>\n      <th>Buyer_City</th>\n      <th>Product_Simplified</th>\n    </tr>\n  </thead>\n  <tbody>\n    <tr>\n      <th>0</th>\n      <td>Macbook Pro Laptop</td>\n      <td>1.0</td>\n      <td>1700.00</td>\n      <td>2019-12-30 00:01:00</td>\n      <td>136 Church St, New York City, NY 10001</td>\n      <td>12</td>\n      <td>0</td>\n      <td>30</td>\n      <td>1700.00</td>\n      <td>NY</td>\n      <td>New York City</td>\n      <td>Computer</td>\n    </tr>\n    <tr>\n      <th>1</th>\n      <td>LG Washing Machine</td>\n      <td>1.0</td>\n      <td>600.00</td>\n      <td>2019-12-29 07:03:00</td>\n      <td>562 2nd St, New York City, NY 10001</td>\n      <td>12</td>\n      <td>7</td>\n      <td>29</td>\n      <td>600.00</td>\n      <td>NY</td>\n      <td>New York City</td>\n      <td>None</td>\n    </tr>\n    <tr>\n      <th>2</th>\n      <td>USB-C Charging Cable</td>\n      <td>1.0</td>\n      <td>11.95</td>\n      <td>2019-12-12 18:21:00</td>\n      <td>277 Main St, New York City, NY 10001</td>\n      <td>12</td>\n      <td>18</td>\n      <td>12</td>\n      <td>11.95</td>\n      <td>NY</td>\n      <td>New York City</td>\n      <td>Cable</td>\n    </tr>\n    <tr>\n      <th>3</th>\n      <td>27in FHD Monitor</td>\n      <td>1.0</td>\n      <td>149.99</td>\n      <td>2019-12-22 15:13:00</td>\n      <td>410 6th St, San Francisco, CA 94016</td>\n      <td>12</td>\n      <td>15</td>\n      <td>22</td>\n      <td>149.99</td>\n      <td>CA</td>\n      <td>San Francisco</td>\n      <td>Monitor</td>\n    </tr>\n    <tr>\n      <th>4</th>\n      <td>USB-C Charging Cable</td>\n      <td>1.0</td>\n      <td>11.95</td>\n      <td>2019-12-18 12:38:00</td>\n      <td>43 Hill St, Atlanta, GA 30301</td>\n      <td>12</td>\n      <td>12</td>\n      <td>18</td>\n      <td>11.95</td>\n      <td>GA</td>\n      <td>Atlanta</td>\n      <td>Cable</td>\n    </tr>\n  </tbody>\n</table>\n</div>"
     },
     "metadata": {},
     "execution_count": 93
    }
   ],
   "source": [
    "df.head()"
   ]
  },
  {
   "cell_type": "code",
   "execution_count": 96,
   "metadata": {},
   "outputs": [],
   "source": [
    "# Categorizing product brand\n",
    "def product_brand_simplifier(product):\n",
    "    if 'apple' in product.lower():\n",
    "        return 'Apple'\n",
    "    elif 'bose' in product.lower():\n",
    "        return 'Bose'\n",
    "    elif 'iphone' in product.lower():\n",
    "        return 'Apple'\n",
    "    elif 'google' in product.lower():\n",
    "        return 'Google'\n",
    "    elif 'macbook' in product.lower():\n",
    "        return 'Apple'\n",
    "    elif 'lg' in product.lower():\n",
    "        return 'LG'\n",
    "    elif 'thinkpad' in product.lower():\n",
    "        return 'Thinkpad'\n",
    "    elif 'vareebadd' in product.lower():\n",
    "        return 'Vareebadd'\n",
    "    else:\n",
    "        return None\n",
    "\n",
    "df['Product_Brand_Simplified'] = df['Product'].apply(product_brand_simplifier)"
   ]
  },
  {
   "cell_type": "code",
   "execution_count": 97,
   "metadata": {},
   "outputs": [
    {
     "output_type": "execute_result",
     "data": {
      "text/plain": "                Product  Quantity Ordered  Price Each           Order Date  \\\n0    Macbook Pro Laptop               1.0     1700.00  2019-12-30 00:01:00   \n1    LG Washing Machine               1.0      600.00  2019-12-29 07:03:00   \n2  USB-C Charging Cable               1.0       11.95  2019-12-12 18:21:00   \n3      27in FHD Monitor               1.0      149.99  2019-12-22 15:13:00   \n4  USB-C Charging Cable               1.0       11.95  2019-12-18 12:38:00   \n\n                         Purchase Address  Order_Month  Order_Hour  Order_Day  \\\n0  136 Church St, New York City, NY 10001           12           0         30   \n1     562 2nd St, New York City, NY 10001           12           7         29   \n2    277 Main St, New York City, NY 10001           12          18         12   \n3     410 6th St, San Francisco, CA 94016           12          15         22   \n4           43 Hill St, Atlanta, GA 30301           12          12         18   \n\n   Sale_Value Buyer_State     Buyer_City Product_Simplified  \\\n0     1700.00          NY  New York City           Computer   \n1      600.00          NY  New York City               None   \n2       11.95          NY  New York City              Cable   \n3      149.99          CA  San Francisco            Monitor   \n4       11.95          GA        Atlanta              Cable   \n\n  Product_Brand_Simplified  \n0                    Apple  \n1                       LG  \n2                     None  \n3                     None  \n4                     None  ",
      "text/html": "<div>\n<style scoped>\n    .dataframe tbody tr th:only-of-type {\n        vertical-align: middle;\n    }\n\n    .dataframe tbody tr th {\n        vertical-align: top;\n    }\n\n    .dataframe thead th {\n        text-align: right;\n    }\n</style>\n<table border=\"1\" class=\"dataframe\">\n  <thead>\n    <tr style=\"text-align: right;\">\n      <th></th>\n      <th>Product</th>\n      <th>Quantity Ordered</th>\n      <th>Price Each</th>\n      <th>Order Date</th>\n      <th>Purchase Address</th>\n      <th>Order_Month</th>\n      <th>Order_Hour</th>\n      <th>Order_Day</th>\n      <th>Sale_Value</th>\n      <th>Buyer_State</th>\n      <th>Buyer_City</th>\n      <th>Product_Simplified</th>\n      <th>Product_Brand_Simplified</th>\n    </tr>\n  </thead>\n  <tbody>\n    <tr>\n      <th>0</th>\n      <td>Macbook Pro Laptop</td>\n      <td>1.0</td>\n      <td>1700.00</td>\n      <td>2019-12-30 00:01:00</td>\n      <td>136 Church St, New York City, NY 10001</td>\n      <td>12</td>\n      <td>0</td>\n      <td>30</td>\n      <td>1700.00</td>\n      <td>NY</td>\n      <td>New York City</td>\n      <td>Computer</td>\n      <td>Apple</td>\n    </tr>\n    <tr>\n      <th>1</th>\n      <td>LG Washing Machine</td>\n      <td>1.0</td>\n      <td>600.00</td>\n      <td>2019-12-29 07:03:00</td>\n      <td>562 2nd St, New York City, NY 10001</td>\n      <td>12</td>\n      <td>7</td>\n      <td>29</td>\n      <td>600.00</td>\n      <td>NY</td>\n      <td>New York City</td>\n      <td>None</td>\n      <td>LG</td>\n    </tr>\n    <tr>\n      <th>2</th>\n      <td>USB-C Charging Cable</td>\n      <td>1.0</td>\n      <td>11.95</td>\n      <td>2019-12-12 18:21:00</td>\n      <td>277 Main St, New York City, NY 10001</td>\n      <td>12</td>\n      <td>18</td>\n      <td>12</td>\n      <td>11.95</td>\n      <td>NY</td>\n      <td>New York City</td>\n      <td>Cable</td>\n      <td>None</td>\n    </tr>\n    <tr>\n      <th>3</th>\n      <td>27in FHD Monitor</td>\n      <td>1.0</td>\n      <td>149.99</td>\n      <td>2019-12-22 15:13:00</td>\n      <td>410 6th St, San Francisco, CA 94016</td>\n      <td>12</td>\n      <td>15</td>\n      <td>22</td>\n      <td>149.99</td>\n      <td>CA</td>\n      <td>San Francisco</td>\n      <td>Monitor</td>\n      <td>None</td>\n    </tr>\n    <tr>\n      <th>4</th>\n      <td>USB-C Charging Cable</td>\n      <td>1.0</td>\n      <td>11.95</td>\n      <td>2019-12-18 12:38:00</td>\n      <td>43 Hill St, Atlanta, GA 30301</td>\n      <td>12</td>\n      <td>12</td>\n      <td>18</td>\n      <td>11.95</td>\n      <td>GA</td>\n      <td>Atlanta</td>\n      <td>Cable</td>\n      <td>None</td>\n    </tr>\n  </tbody>\n</table>\n</div>"
     },
     "metadata": {},
     "execution_count": 97
    }
   ],
   "source": [
    "df.head()"
   ]
  }
 ]
}