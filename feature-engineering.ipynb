{
 "metadata": {
  "language_info": {
   "codemirror_mode": {
    "name": "ipython",
    "version": 3
   },
   "file_extension": ".py",
   "mimetype": "text/x-python",
   "name": "python",
   "nbconvert_exporter": "python",
   "pygments_lexer": "ipython3",
   "version": "3.8.5-final"
  },
  "orig_nbformat": 2,
  "kernelspec": {
   "name": "python_defaultSpec_1599458947943",
   "display_name": "Python 3.8.5 64-bit"
  }
 },
 "nbformat": 4,
 "nbformat_minor": 2,
 "cells": [
  {
   "cell_type": "code",
   "execution_count": 25,
   "metadata": {},
   "outputs": [],
   "source": [
    "import pandas as pd\n",
    "import numpy as np\n",
    "import seaborn as sns\n",
    "import matplotlib.pyplot as plt\n",
    "import matplotlib.ticker as plticker\n",
    "%matplotlib inline"
   ]
  },
  {
   "cell_type": "code",
   "execution_count": 26,
   "metadata": {},
   "outputs": [
    {
     "output_type": "execute_result",
     "data": {
      "text/plain": "                Product  Quantity Ordered  Price Each           Order Date  \\\n0    Macbook Pro Laptop               1.0     1700.00  2019-12-30 00:01:00   \n1    LG Washing Machine               1.0      600.00  2019-12-29 07:03:00   \n2  USB-C Charging Cable               1.0       11.95  2019-12-12 18:21:00   \n3      27in FHD Monitor               1.0      149.99  2019-12-22 15:13:00   \n4  USB-C Charging Cable               1.0       11.95  2019-12-18 12:38:00   \n\n                         Purchase Address  \n0  136 Church St, New York City, NY 10001  \n1     562 2nd St, New York City, NY 10001  \n2    277 Main St, New York City, NY 10001  \n3     410 6th St, San Francisco, CA 94016  \n4           43 Hill St, Atlanta, GA 30301  ",
      "text/html": "<div>\n<style scoped>\n    .dataframe tbody tr th:only-of-type {\n        vertical-align: middle;\n    }\n\n    .dataframe tbody tr th {\n        vertical-align: top;\n    }\n\n    .dataframe thead th {\n        text-align: right;\n    }\n</style>\n<table border=\"1\" class=\"dataframe\">\n  <thead>\n    <tr style=\"text-align: right;\">\n      <th></th>\n      <th>Product</th>\n      <th>Quantity Ordered</th>\n      <th>Price Each</th>\n      <th>Order Date</th>\n      <th>Purchase Address</th>\n    </tr>\n  </thead>\n  <tbody>\n    <tr>\n      <th>0</th>\n      <td>Macbook Pro Laptop</td>\n      <td>1.0</td>\n      <td>1700.00</td>\n      <td>2019-12-30 00:01:00</td>\n      <td>136 Church St, New York City, NY 10001</td>\n    </tr>\n    <tr>\n      <th>1</th>\n      <td>LG Washing Machine</td>\n      <td>1.0</td>\n      <td>600.00</td>\n      <td>2019-12-29 07:03:00</td>\n      <td>562 2nd St, New York City, NY 10001</td>\n    </tr>\n    <tr>\n      <th>2</th>\n      <td>USB-C Charging Cable</td>\n      <td>1.0</td>\n      <td>11.95</td>\n      <td>2019-12-12 18:21:00</td>\n      <td>277 Main St, New York City, NY 10001</td>\n    </tr>\n    <tr>\n      <th>3</th>\n      <td>27in FHD Monitor</td>\n      <td>1.0</td>\n      <td>149.99</td>\n      <td>2019-12-22 15:13:00</td>\n      <td>410 6th St, San Francisco, CA 94016</td>\n    </tr>\n    <tr>\n      <th>4</th>\n      <td>USB-C Charging Cable</td>\n      <td>1.0</td>\n      <td>11.95</td>\n      <td>2019-12-18 12:38:00</td>\n      <td>43 Hill St, Atlanta, GA 30301</td>\n    </tr>\n  </tbody>\n</table>\n</div>"
     },
     "metadata": {},
     "execution_count": 26
    }
   ],
   "source": [
    "# Reading in the cleaned data\n",
    "df = pd.read_csv('cleaned_sales_data.csv', index_col= None)\n",
    "df.head()"
   ]
  },
  {
   "cell_type": "markdown",
   "metadata": {},
   "source": [
    "# Adding a columns for order times (month, day, hour)"
   ]
  },
  {
   "cell_type": "code",
   "execution_count": 27,
   "metadata": {},
   "outputs": [
    {
     "output_type": "execute_result",
     "data": {
      "text/plain": "                Product  Quantity Ordered  Price Each           Order Date  \\\n0    Macbook Pro Laptop               1.0     1700.00  2019-12-30 00:01:00   \n1    LG Washing Machine               1.0      600.00  2019-12-29 07:03:00   \n2  USB-C Charging Cable               1.0       11.95  2019-12-12 18:21:00   \n3      27in FHD Monitor               1.0      149.99  2019-12-22 15:13:00   \n4  USB-C Charging Cable               1.0       11.95  2019-12-18 12:38:00   \n\n                         Purchase Address  Order_Month  \n0  136 Church St, New York City, NY 10001           12  \n1     562 2nd St, New York City, NY 10001           12  \n2    277 Main St, New York City, NY 10001           12  \n3     410 6th St, San Francisco, CA 94016           12  \n4           43 Hill St, Atlanta, GA 30301           12  ",
      "text/html": "<div>\n<style scoped>\n    .dataframe tbody tr th:only-of-type {\n        vertical-align: middle;\n    }\n\n    .dataframe tbody tr th {\n        vertical-align: top;\n    }\n\n    .dataframe thead th {\n        text-align: right;\n    }\n</style>\n<table border=\"1\" class=\"dataframe\">\n  <thead>\n    <tr style=\"text-align: right;\">\n      <th></th>\n      <th>Product</th>\n      <th>Quantity Ordered</th>\n      <th>Price Each</th>\n      <th>Order Date</th>\n      <th>Purchase Address</th>\n      <th>Order_Month</th>\n    </tr>\n  </thead>\n  <tbody>\n    <tr>\n      <th>0</th>\n      <td>Macbook Pro Laptop</td>\n      <td>1.0</td>\n      <td>1700.00</td>\n      <td>2019-12-30 00:01:00</td>\n      <td>136 Church St, New York City, NY 10001</td>\n      <td>12</td>\n    </tr>\n    <tr>\n      <th>1</th>\n      <td>LG Washing Machine</td>\n      <td>1.0</td>\n      <td>600.00</td>\n      <td>2019-12-29 07:03:00</td>\n      <td>562 2nd St, New York City, NY 10001</td>\n      <td>12</td>\n    </tr>\n    <tr>\n      <th>2</th>\n      <td>USB-C Charging Cable</td>\n      <td>1.0</td>\n      <td>11.95</td>\n      <td>2019-12-12 18:21:00</td>\n      <td>277 Main St, New York City, NY 10001</td>\n      <td>12</td>\n    </tr>\n    <tr>\n      <th>3</th>\n      <td>27in FHD Monitor</td>\n      <td>1.0</td>\n      <td>149.99</td>\n      <td>2019-12-22 15:13:00</td>\n      <td>410 6th St, San Francisco, CA 94016</td>\n      <td>12</td>\n    </tr>\n    <tr>\n      <th>4</th>\n      <td>USB-C Charging Cable</td>\n      <td>1.0</td>\n      <td>11.95</td>\n      <td>2019-12-18 12:38:00</td>\n      <td>43 Hill St, Atlanta, GA 30301</td>\n      <td>12</td>\n    </tr>\n  </tbody>\n</table>\n</div>"
     },
     "metadata": {},
     "execution_count": 27
    }
   ],
   "source": [
    "df['Order_Month'] = pd.DatetimeIndex(df['Order Date']).month\n",
    "df.head()"
   ]
  },
  {
   "cell_type": "code",
   "execution_count": 28,
   "metadata": {},
   "outputs": [
    {
     "output_type": "execute_result",
     "data": {
      "text/plain": "                Product  Quantity Ordered  Price Each           Order Date  \\\n0    Macbook Pro Laptop               1.0     1700.00  2019-12-30 00:01:00   \n1    LG Washing Machine               1.0      600.00  2019-12-29 07:03:00   \n2  USB-C Charging Cable               1.0       11.95  2019-12-12 18:21:00   \n3      27in FHD Monitor               1.0      149.99  2019-12-22 15:13:00   \n4  USB-C Charging Cable               1.0       11.95  2019-12-18 12:38:00   \n\n                         Purchase Address  Order_Month  Order_Hour  \n0  136 Church St, New York City, NY 10001           12           0  \n1     562 2nd St, New York City, NY 10001           12           7  \n2    277 Main St, New York City, NY 10001           12          18  \n3     410 6th St, San Francisco, CA 94016           12          15  \n4           43 Hill St, Atlanta, GA 30301           12          12  ",
      "text/html": "<div>\n<style scoped>\n    .dataframe tbody tr th:only-of-type {\n        vertical-align: middle;\n    }\n\n    .dataframe tbody tr th {\n        vertical-align: top;\n    }\n\n    .dataframe thead th {\n        text-align: right;\n    }\n</style>\n<table border=\"1\" class=\"dataframe\">\n  <thead>\n    <tr style=\"text-align: right;\">\n      <th></th>\n      <th>Product</th>\n      <th>Quantity Ordered</th>\n      <th>Price Each</th>\n      <th>Order Date</th>\n      <th>Purchase Address</th>\n      <th>Order_Month</th>\n      <th>Order_Hour</th>\n    </tr>\n  </thead>\n  <tbody>\n    <tr>\n      <th>0</th>\n      <td>Macbook Pro Laptop</td>\n      <td>1.0</td>\n      <td>1700.00</td>\n      <td>2019-12-30 00:01:00</td>\n      <td>136 Church St, New York City, NY 10001</td>\n      <td>12</td>\n      <td>0</td>\n    </tr>\n    <tr>\n      <th>1</th>\n      <td>LG Washing Machine</td>\n      <td>1.0</td>\n      <td>600.00</td>\n      <td>2019-12-29 07:03:00</td>\n      <td>562 2nd St, New York City, NY 10001</td>\n      <td>12</td>\n      <td>7</td>\n    </tr>\n    <tr>\n      <th>2</th>\n      <td>USB-C Charging Cable</td>\n      <td>1.0</td>\n      <td>11.95</td>\n      <td>2019-12-12 18:21:00</td>\n      <td>277 Main St, New York City, NY 10001</td>\n      <td>12</td>\n      <td>18</td>\n    </tr>\n    <tr>\n      <th>3</th>\n      <td>27in FHD Monitor</td>\n      <td>1.0</td>\n      <td>149.99</td>\n      <td>2019-12-22 15:13:00</td>\n      <td>410 6th St, San Francisco, CA 94016</td>\n      <td>12</td>\n      <td>15</td>\n    </tr>\n    <tr>\n      <th>4</th>\n      <td>USB-C Charging Cable</td>\n      <td>1.0</td>\n      <td>11.95</td>\n      <td>2019-12-18 12:38:00</td>\n      <td>43 Hill St, Atlanta, GA 30301</td>\n      <td>12</td>\n      <td>12</td>\n    </tr>\n  </tbody>\n</table>\n</div>"
     },
     "metadata": {},
     "execution_count": 28
    }
   ],
   "source": [
    "df['Order_Hour'] = pd.DatetimeIndex(df['Order Date']).hour\n",
    "df.head()"
   ]
  },
  {
   "cell_type": "code",
   "execution_count": 30,
   "metadata": {},
   "outputs": [
    {
     "output_type": "execute_result",
     "data": {
      "text/plain": "                Product  Quantity Ordered  Price Each           Order Date  \\\n0    Macbook Pro Laptop               1.0     1700.00  2019-12-30 00:01:00   \n1    LG Washing Machine               1.0      600.00  2019-12-29 07:03:00   \n2  USB-C Charging Cable               1.0       11.95  2019-12-12 18:21:00   \n3      27in FHD Monitor               1.0      149.99  2019-12-22 15:13:00   \n4  USB-C Charging Cable               1.0       11.95  2019-12-18 12:38:00   \n\n                         Purchase Address  Order_Month  Order_Hour  Order_Day  \n0  136 Church St, New York City, NY 10001           12           0         30  \n1     562 2nd St, New York City, NY 10001           12           7         29  \n2    277 Main St, New York City, NY 10001           12          18         12  \n3     410 6th St, San Francisco, CA 94016           12          15         22  \n4           43 Hill St, Atlanta, GA 30301           12          12         18  ",
      "text/html": "<div>\n<style scoped>\n    .dataframe tbody tr th:only-of-type {\n        vertical-align: middle;\n    }\n\n    .dataframe tbody tr th {\n        vertical-align: top;\n    }\n\n    .dataframe thead th {\n        text-align: right;\n    }\n</style>\n<table border=\"1\" class=\"dataframe\">\n  <thead>\n    <tr style=\"text-align: right;\">\n      <th></th>\n      <th>Product</th>\n      <th>Quantity Ordered</th>\n      <th>Price Each</th>\n      <th>Order Date</th>\n      <th>Purchase Address</th>\n      <th>Order_Month</th>\n      <th>Order_Hour</th>\n      <th>Order_Day</th>\n    </tr>\n  </thead>\n  <tbody>\n    <tr>\n      <th>0</th>\n      <td>Macbook Pro Laptop</td>\n      <td>1.0</td>\n      <td>1700.00</td>\n      <td>2019-12-30 00:01:00</td>\n      <td>136 Church St, New York City, NY 10001</td>\n      <td>12</td>\n      <td>0</td>\n      <td>30</td>\n    </tr>\n    <tr>\n      <th>1</th>\n      <td>LG Washing Machine</td>\n      <td>1.0</td>\n      <td>600.00</td>\n      <td>2019-12-29 07:03:00</td>\n      <td>562 2nd St, New York City, NY 10001</td>\n      <td>12</td>\n      <td>7</td>\n      <td>29</td>\n    </tr>\n    <tr>\n      <th>2</th>\n      <td>USB-C Charging Cable</td>\n      <td>1.0</td>\n      <td>11.95</td>\n      <td>2019-12-12 18:21:00</td>\n      <td>277 Main St, New York City, NY 10001</td>\n      <td>12</td>\n      <td>18</td>\n      <td>12</td>\n    </tr>\n    <tr>\n      <th>3</th>\n      <td>27in FHD Monitor</td>\n      <td>1.0</td>\n      <td>149.99</td>\n      <td>2019-12-22 15:13:00</td>\n      <td>410 6th St, San Francisco, CA 94016</td>\n      <td>12</td>\n      <td>15</td>\n      <td>22</td>\n    </tr>\n    <tr>\n      <th>4</th>\n      <td>USB-C Charging Cable</td>\n      <td>1.0</td>\n      <td>11.95</td>\n      <td>2019-12-18 12:38:00</td>\n      <td>43 Hill St, Atlanta, GA 30301</td>\n      <td>12</td>\n      <td>12</td>\n      <td>18</td>\n    </tr>\n  </tbody>\n</table>\n</div>"
     },
     "metadata": {},
     "execution_count": 30
    }
   ],
   "source": [
    "df['Order_Day'] = pd.DatetimeIndex(df['Order Date']).day\n",
    "df.head()"
   ]
  },
  {
   "cell_type": "markdown",
   "metadata": {},
   "source": [
    "# Adding a sale value column"
   ]
  },
  {
   "cell_type": "code",
   "execution_count": 31,
   "metadata": {},
   "outputs": [
    {
     "output_type": "execute_result",
     "data": {
      "text/plain": "                Product  Quantity Ordered  Price Each           Order Date  \\\n0    Macbook Pro Laptop               1.0     1700.00  2019-12-30 00:01:00   \n1    LG Washing Machine               1.0      600.00  2019-12-29 07:03:00   \n2  USB-C Charging Cable               1.0       11.95  2019-12-12 18:21:00   \n3      27in FHD Monitor               1.0      149.99  2019-12-22 15:13:00   \n4  USB-C Charging Cable               1.0       11.95  2019-12-18 12:38:00   \n\n                         Purchase Address  Order_Month  Order_Hour  Order_Day  \\\n0  136 Church St, New York City, NY 10001           12           0         30   \n1     562 2nd St, New York City, NY 10001           12           7         29   \n2    277 Main St, New York City, NY 10001           12          18         12   \n3     410 6th St, San Francisco, CA 94016           12          15         22   \n4           43 Hill St, Atlanta, GA 30301           12          12         18   \n\n   Sale_Value  \n0     1700.00  \n1      600.00  \n2       11.95  \n3      149.99  \n4       11.95  ",
      "text/html": "<div>\n<style scoped>\n    .dataframe tbody tr th:only-of-type {\n        vertical-align: middle;\n    }\n\n    .dataframe tbody tr th {\n        vertical-align: top;\n    }\n\n    .dataframe thead th {\n        text-align: right;\n    }\n</style>\n<table border=\"1\" class=\"dataframe\">\n  <thead>\n    <tr style=\"text-align: right;\">\n      <th></th>\n      <th>Product</th>\n      <th>Quantity Ordered</th>\n      <th>Price Each</th>\n      <th>Order Date</th>\n      <th>Purchase Address</th>\n      <th>Order_Month</th>\n      <th>Order_Hour</th>\n      <th>Order_Day</th>\n      <th>Sale_Value</th>\n    </tr>\n  </thead>\n  <tbody>\n    <tr>\n      <th>0</th>\n      <td>Macbook Pro Laptop</td>\n      <td>1.0</td>\n      <td>1700.00</td>\n      <td>2019-12-30 00:01:00</td>\n      <td>136 Church St, New York City, NY 10001</td>\n      <td>12</td>\n      <td>0</td>\n      <td>30</td>\n      <td>1700.00</td>\n    </tr>\n    <tr>\n      <th>1</th>\n      <td>LG Washing Machine</td>\n      <td>1.0</td>\n      <td>600.00</td>\n      <td>2019-12-29 07:03:00</td>\n      <td>562 2nd St, New York City, NY 10001</td>\n      <td>12</td>\n      <td>7</td>\n      <td>29</td>\n      <td>600.00</td>\n    </tr>\n    <tr>\n      <th>2</th>\n      <td>USB-C Charging Cable</td>\n      <td>1.0</td>\n      <td>11.95</td>\n      <td>2019-12-12 18:21:00</td>\n      <td>277 Main St, New York City, NY 10001</td>\n      <td>12</td>\n      <td>18</td>\n      <td>12</td>\n      <td>11.95</td>\n    </tr>\n    <tr>\n      <th>3</th>\n      <td>27in FHD Monitor</td>\n      <td>1.0</td>\n      <td>149.99</td>\n      <td>2019-12-22 15:13:00</td>\n      <td>410 6th St, San Francisco, CA 94016</td>\n      <td>12</td>\n      <td>15</td>\n      <td>22</td>\n      <td>149.99</td>\n    </tr>\n    <tr>\n      <th>4</th>\n      <td>USB-C Charging Cable</td>\n      <td>1.0</td>\n      <td>11.95</td>\n      <td>2019-12-18 12:38:00</td>\n      <td>43 Hill St, Atlanta, GA 30301</td>\n      <td>12</td>\n      <td>12</td>\n      <td>18</td>\n      <td>11.95</td>\n    </tr>\n  </tbody>\n</table>\n</div>"
     },
     "metadata": {},
     "execution_count": 31
    }
   ],
   "source": [
    "df['Sale_Value'] = df['Quantity Ordered'] * df['Price Each']\n",
    "df.head()"
   ]
  },
  {
   "cell_type": "code",
   "execution_count": 32,
   "metadata": {},
   "outputs": [
    {
     "output_type": "execute_result",
     "data": {
      "text/plain": "Product              object\nQuantity Ordered    float64\nPrice Each          float64\nOrder Date           object\nPurchase Address     object\nOrder_Month           int64\nOrder_Hour            int64\nOrder_Day             int64\nSale_Value          float64\ndtype: object"
     },
     "metadata": {},
     "execution_count": 32
    }
   ],
   "source": [
    "# Making sure all values are the correct dtype\n",
    "df.dtypes"
   ]
  },
  {
   "cell_type": "code",
   "execution_count": null,
   "metadata": {},
   "outputs": [],
   "source": []
  }
 ]
}