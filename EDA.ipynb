{
 "metadata": {
  "language_info": {
   "codemirror_mode": {
    "name": "ipython",
    "version": 3
   },
   "file_extension": ".py",
   "mimetype": "text/x-python",
   "name": "python",
   "nbconvert_exporter": "python",
   "pygments_lexer": "ipython3",
   "version": "3.8.5-final"
  },
  "orig_nbformat": 2,
  "kernelspec": {
   "name": "python_defaultSpec_1600017221082",
   "display_name": "Python 3.8.5 64-bit"
  }
 },
 "nbformat": 4,
 "nbformat_minor": 2,
 "cells": [
  {
   "cell_type": "code",
   "execution_count": 1,
   "metadata": {},
   "outputs": [],
   "source": [
    "import pandas as pd\n",
    "import numpy as np\n",
    "import seaborn as sns\n",
    "import matplotlib.pyplot as plt\n",
    "import matplotlib.ticker as plticker\n",
    "%matplotlib inline"
   ]
  },
  {
   "cell_type": "code",
   "execution_count": 2,
   "metadata": {},
   "outputs": [
    {
     "output_type": "execute_result",
     "data": {
      "text/plain": "                Product  Quantity Ordered  Price Each           Order Date  \\\n0    Macbook Pro Laptop               1.0     1700.00  2019-12-30 00:01:00   \n1    LG Washing Machine               1.0      600.00  2019-12-29 07:03:00   \n2  USB-C Charging Cable               1.0       11.95  2019-12-12 18:21:00   \n3      27in FHD Monitor               1.0      149.99  2019-12-22 15:13:00   \n4  USB-C Charging Cable               1.0       11.95  2019-12-18 12:38:00   \n\n                         Purchase Address  Order_Month  Order_Hour  Order_Day  \\\n0  136 Church St, New York City, NY 10001           12           0         30   \n1     562 2nd St, New York City, NY 10001           12           7         29   \n2    277 Main St, New York City, NY 10001           12          18         12   \n3     410 6th St, San Francisco, CA 94016           12          15         22   \n4           43 Hill St, Atlanta, GA 30301           12          12         18   \n\n   Sale_Value Buyer_State     Buyer_City Product_Simplified  \\\n0     1700.00          NY  New York City           Computer   \n1      600.00          NY  New York City                NaN   \n2       11.95          NY  New York City              Cable   \n3      149.99          CA  San Francisco            Monitor   \n4       11.95          GA        Atlanta              Cable   \n\n  Product_Brand_Simplified  \n0                    Apple  \n1                       LG  \n2                      NaN  \n3                      NaN  \n4                      NaN  ",
      "text/html": "<div>\n<style scoped>\n    .dataframe tbody tr th:only-of-type {\n        vertical-align: middle;\n    }\n\n    .dataframe tbody tr th {\n        vertical-align: top;\n    }\n\n    .dataframe thead th {\n        text-align: right;\n    }\n</style>\n<table border=\"1\" class=\"dataframe\">\n  <thead>\n    <tr style=\"text-align: right;\">\n      <th></th>\n      <th>Product</th>\n      <th>Quantity Ordered</th>\n      <th>Price Each</th>\n      <th>Order Date</th>\n      <th>Purchase Address</th>\n      <th>Order_Month</th>\n      <th>Order_Hour</th>\n      <th>Order_Day</th>\n      <th>Sale_Value</th>\n      <th>Buyer_State</th>\n      <th>Buyer_City</th>\n      <th>Product_Simplified</th>\n      <th>Product_Brand_Simplified</th>\n    </tr>\n  </thead>\n  <tbody>\n    <tr>\n      <th>0</th>\n      <td>Macbook Pro Laptop</td>\n      <td>1.0</td>\n      <td>1700.00</td>\n      <td>2019-12-30 00:01:00</td>\n      <td>136 Church St, New York City, NY 10001</td>\n      <td>12</td>\n      <td>0</td>\n      <td>30</td>\n      <td>1700.00</td>\n      <td>NY</td>\n      <td>New York City</td>\n      <td>Computer</td>\n      <td>Apple</td>\n    </tr>\n    <tr>\n      <th>1</th>\n      <td>LG Washing Machine</td>\n      <td>1.0</td>\n      <td>600.00</td>\n      <td>2019-12-29 07:03:00</td>\n      <td>562 2nd St, New York City, NY 10001</td>\n      <td>12</td>\n      <td>7</td>\n      <td>29</td>\n      <td>600.00</td>\n      <td>NY</td>\n      <td>New York City</td>\n      <td>NaN</td>\n      <td>LG</td>\n    </tr>\n    <tr>\n      <th>2</th>\n      <td>USB-C Charging Cable</td>\n      <td>1.0</td>\n      <td>11.95</td>\n      <td>2019-12-12 18:21:00</td>\n      <td>277 Main St, New York City, NY 10001</td>\n      <td>12</td>\n      <td>18</td>\n      <td>12</td>\n      <td>11.95</td>\n      <td>NY</td>\n      <td>New York City</td>\n      <td>Cable</td>\n      <td>NaN</td>\n    </tr>\n    <tr>\n      <th>3</th>\n      <td>27in FHD Monitor</td>\n      <td>1.0</td>\n      <td>149.99</td>\n      <td>2019-12-22 15:13:00</td>\n      <td>410 6th St, San Francisco, CA 94016</td>\n      <td>12</td>\n      <td>15</td>\n      <td>22</td>\n      <td>149.99</td>\n      <td>CA</td>\n      <td>San Francisco</td>\n      <td>Monitor</td>\n      <td>NaN</td>\n    </tr>\n    <tr>\n      <th>4</th>\n      <td>USB-C Charging Cable</td>\n      <td>1.0</td>\n      <td>11.95</td>\n      <td>2019-12-18 12:38:00</td>\n      <td>43 Hill St, Atlanta, GA 30301</td>\n      <td>12</td>\n      <td>12</td>\n      <td>18</td>\n      <td>11.95</td>\n      <td>GA</td>\n      <td>Atlanta</td>\n      <td>Cable</td>\n      <td>NaN</td>\n    </tr>\n  </tbody>\n</table>\n</div>"
     },
     "metadata": {},
     "execution_count": 2
    }
   ],
   "source": [
    "data = pd.read_csv('/Users/logno/Documents/GitHub/tech-sales-analysis/Sales_Data/featured_data.csv')\n",
    "df = data.copy()\n",
    "df.head()"
   ]
  },
  {
   "cell_type": "code",
   "execution_count": null,
   "metadata": {},
   "outputs": [],
   "source": []
  }
 ]
}