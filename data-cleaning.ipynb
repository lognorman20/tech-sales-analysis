{
 "metadata": {
  "language_info": {
   "codemirror_mode": {
    "name": "ipython",
    "version": 3
   },
   "file_extension": ".py",
   "mimetype": "text/x-python",
   "name": "python",
   "nbconvert_exporter": "python",
   "pygments_lexer": "ipython3",
   "version": "3.8.5-final"
  },
  "orig_nbformat": 2,
  "kernelspec": {
   "name": "python_defaultSpec_1599453385635",
   "display_name": "Python 3.8.5 64-bit"
  }
 },
 "nbformat": 4,
 "nbformat_minor": 2,
 "cells": [
  {
   "cell_type": "code",
   "execution_count": 154,
   "metadata": {},
   "outputs": [],
   "source": [
    "import pandas as pd\n",
    "import numpy as np\n",
    "import seaborn as sns\n",
    "import matplotlib.pyplot as plt\n",
    "import matplotlib.ticker as plticker\n",
    "%matplotlib inline"
   ]
  },
  {
   "cell_type": "markdown",
   "metadata": {},
   "source": [
    "# Reading in & combining the data"
   ]
  },
  {
   "cell_type": "code",
   "execution_count": 155,
   "metadata": {},
   "outputs": [
    {
     "output_type": "execute_result",
     "data": {
      "text/plain": "       Order ID                 Product Quantity Ordered Price Each  \\\n0        295665      Macbook Pro Laptop                1       1700   \n1        295666      LG Washing Machine                1      600.0   \n2        295667    USB-C Charging Cable                1      11.95   \n3        295668        27in FHD Monitor                1     149.99   \n4        295669    USB-C Charging Cable                1      11.95   \n...         ...                     ...              ...        ...   \n186845   222905  AAA Batteries (4-pack)                1       2.99   \n186846   222906        27in FHD Monitor                1     149.99   \n186847   222907    USB-C Charging Cable                1      11.95   \n186848   222908    USB-C Charging Cable                1      11.95   \n186849   222909  AAA Batteries (4-pack)                1       2.99   \n\n            Order Date                        Purchase Address  \n0       12/30/19 00:01  136 Church St, New York City, NY 10001  \n1       12/29/19 07:03     562 2nd St, New York City, NY 10001  \n2       12/12/19 18:21    277 Main St, New York City, NY 10001  \n3       12/22/19 15:13     410 6th St, San Francisco, CA 94016  \n4       12/18/19 12:38           43 Hill St, Atlanta, GA 30301  \n...                ...                                     ...  \n186845  06/07/19 19:02           795 Pine St, Boston, MA 02215  \n186846  06/01/19 19:29   495 North St, New York City, NY 10001  \n186847  06/22/19 18:57   319 Ridge St, San Francisco, CA 94016  \n186848  06/26/19 18:35    916 Main St, San Francisco, CA 94016  \n186849  06/25/19 14:33          209 11th St, Atlanta, GA 30301  \n\n[186850 rows x 6 columns]",
      "text/html": "<div>\n<style scoped>\n    .dataframe tbody tr th:only-of-type {\n        vertical-align: middle;\n    }\n\n    .dataframe tbody tr th {\n        vertical-align: top;\n    }\n\n    .dataframe thead th {\n        text-align: right;\n    }\n</style>\n<table border=\"1\" class=\"dataframe\">\n  <thead>\n    <tr style=\"text-align: right;\">\n      <th></th>\n      <th>Order ID</th>\n      <th>Product</th>\n      <th>Quantity Ordered</th>\n      <th>Price Each</th>\n      <th>Order Date</th>\n      <th>Purchase Address</th>\n    </tr>\n  </thead>\n  <tbody>\n    <tr>\n      <th>0</th>\n      <td>295665</td>\n      <td>Macbook Pro Laptop</td>\n      <td>1</td>\n      <td>1700</td>\n      <td>12/30/19 00:01</td>\n      <td>136 Church St, New York City, NY 10001</td>\n    </tr>\n    <tr>\n      <th>1</th>\n      <td>295666</td>\n      <td>LG Washing Machine</td>\n      <td>1</td>\n      <td>600.0</td>\n      <td>12/29/19 07:03</td>\n      <td>562 2nd St, New York City, NY 10001</td>\n    </tr>\n    <tr>\n      <th>2</th>\n      <td>295667</td>\n      <td>USB-C Charging Cable</td>\n      <td>1</td>\n      <td>11.95</td>\n      <td>12/12/19 18:21</td>\n      <td>277 Main St, New York City, NY 10001</td>\n    </tr>\n    <tr>\n      <th>3</th>\n      <td>295668</td>\n      <td>27in FHD Monitor</td>\n      <td>1</td>\n      <td>149.99</td>\n      <td>12/22/19 15:13</td>\n      <td>410 6th St, San Francisco, CA 94016</td>\n    </tr>\n    <tr>\n      <th>4</th>\n      <td>295669</td>\n      <td>USB-C Charging Cable</td>\n      <td>1</td>\n      <td>11.95</td>\n      <td>12/18/19 12:38</td>\n      <td>43 Hill St, Atlanta, GA 30301</td>\n    </tr>\n    <tr>\n      <th>...</th>\n      <td>...</td>\n      <td>...</td>\n      <td>...</td>\n      <td>...</td>\n      <td>...</td>\n      <td>...</td>\n    </tr>\n    <tr>\n      <th>186845</th>\n      <td>222905</td>\n      <td>AAA Batteries (4-pack)</td>\n      <td>1</td>\n      <td>2.99</td>\n      <td>06/07/19 19:02</td>\n      <td>795 Pine St, Boston, MA 02215</td>\n    </tr>\n    <tr>\n      <th>186846</th>\n      <td>222906</td>\n      <td>27in FHD Monitor</td>\n      <td>1</td>\n      <td>149.99</td>\n      <td>06/01/19 19:29</td>\n      <td>495 North St, New York City, NY 10001</td>\n    </tr>\n    <tr>\n      <th>186847</th>\n      <td>222907</td>\n      <td>USB-C Charging Cable</td>\n      <td>1</td>\n      <td>11.95</td>\n      <td>06/22/19 18:57</td>\n      <td>319 Ridge St, San Francisco, CA 94016</td>\n    </tr>\n    <tr>\n      <th>186848</th>\n      <td>222908</td>\n      <td>USB-C Charging Cable</td>\n      <td>1</td>\n      <td>11.95</td>\n      <td>06/26/19 18:35</td>\n      <td>916 Main St, San Francisco, CA 94016</td>\n    </tr>\n    <tr>\n      <th>186849</th>\n      <td>222909</td>\n      <td>AAA Batteries (4-pack)</td>\n      <td>1</td>\n      <td>2.99</td>\n      <td>06/25/19 14:33</td>\n      <td>209 11th St, Atlanta, GA 30301</td>\n    </tr>\n  </tbody>\n</table>\n<p>186850 rows × 6 columns</p>\n</div>"
     },
     "metadata": {},
     "execution_count": 155
    }
   ],
   "source": [
    "# Creating a function to combine the datasets\n",
    "def df_combiner(data_folder_path):\n",
    "    '''\n",
    "    This function combines datasets in a folder by row, assuming that each dataset has the same columns.\n",
    "    '''\n",
    "    # Getting paths of each dataset in folder\n",
    "    d = data_folder_path\n",
    "    data_paths = []\n",
    "    for path in os.listdir(d):\n",
    "        full_path = os.path.join(d, path)\n",
    "        if os.path.isfile(full_path):\n",
    "            data_paths.append(full_path)\n",
    "\n",
    "    # Joining the data together by row\n",
    "    big_df = []\n",
    "    for path in data_paths:\n",
    "        df = pd.read_csv(path, parse_dates = True)\n",
    "        big_df.append(df)\n",
    "    df = pd.concat(big_df, ignore_index=True)\n",
    "    return df\n",
    "\n",
    "data_folder = '/Users/logno/Documents/GitHub/tech-sales-analysis/Sales_Data'\n",
    "df = df_combiner(data_folder)\n",
    "df"
   ]
  },
  {
   "cell_type": "markdown",
   "metadata": {},
   "source": [
    "# Checking for missing values"
   ]
  },
  {
   "cell_type": "code",
   "execution_count": 156,
   "metadata": {},
   "outputs": [
    {
     "output_type": "execute_result",
     "data": {
      "text/plain": "Order ID            545\nProduct             545\nQuantity Ordered    545\nPrice Each          545\nOrder Date          545\nPurchase Address    545\ndtype: int64"
     },
     "metadata": {},
     "execution_count": 156
    }
   ],
   "source": [
    "df.isnull().sum()"
   ]
  },
  {
   "cell_type": "code",
   "execution_count": 157,
   "metadata": {},
   "outputs": [
    {
     "output_type": "execute_result",
     "data": {
      "text/plain": "Index(['Order ID', 'Product', 'Quantity Ordered', 'Price Each', 'Order Date',\n       'Purchase Address'],\n      dtype='object')"
     },
     "metadata": {},
     "execution_count": 157
    }
   ],
   "source": [
    "df.columns"
   ]
  },
  {
   "cell_type": "code",
   "execution_count": 158,
   "metadata": {},
   "outputs": [
    {
     "output_type": "execute_result",
     "data": {
      "text/plain": "       Order ID Product Quantity Ordered Price Each Order Date  \\\n264         NaN     NaN              NaN        NaN        NaN   \n648         NaN     NaN              NaN        NaN        NaN   \n680         NaN     NaN              NaN        NaN        NaN   \n1385        NaN     NaN              NaN        NaN        NaN   \n1495        NaN     NaN              NaN        NaN        NaN   \n...         ...     ...              ...        ...        ...   \n185795      NaN     NaN              NaN        NaN        NaN   \n185868      NaN     NaN              NaN        NaN        NaN   \n185887      NaN     NaN              NaN        NaN        NaN   \n185960      NaN     NaN              NaN        NaN        NaN   \n186580      NaN     NaN              NaN        NaN        NaN   \n\n       Purchase Address  \n264                 NaN  \n648                 NaN  \n680                 NaN  \n1385                NaN  \n1495                NaN  \n...                 ...  \n185795              NaN  \n185868              NaN  \n185887              NaN  \n185960              NaN  \n186580              NaN  \n\n[545 rows x 6 columns]",
      "text/html": "<div>\n<style scoped>\n    .dataframe tbody tr th:only-of-type {\n        vertical-align: middle;\n    }\n\n    .dataframe tbody tr th {\n        vertical-align: top;\n    }\n\n    .dataframe thead th {\n        text-align: right;\n    }\n</style>\n<table border=\"1\" class=\"dataframe\">\n  <thead>\n    <tr style=\"text-align: right;\">\n      <th></th>\n      <th>Order ID</th>\n      <th>Product</th>\n      <th>Quantity Ordered</th>\n      <th>Price Each</th>\n      <th>Order Date</th>\n      <th>Purchase Address</th>\n    </tr>\n  </thead>\n  <tbody>\n    <tr>\n      <th>264</th>\n      <td>NaN</td>\n      <td>NaN</td>\n      <td>NaN</td>\n      <td>NaN</td>\n      <td>NaN</td>\n      <td>NaN</td>\n    </tr>\n    <tr>\n      <th>648</th>\n      <td>NaN</td>\n      <td>NaN</td>\n      <td>NaN</td>\n      <td>NaN</td>\n      <td>NaN</td>\n      <td>NaN</td>\n    </tr>\n    <tr>\n      <th>680</th>\n      <td>NaN</td>\n      <td>NaN</td>\n      <td>NaN</td>\n      <td>NaN</td>\n      <td>NaN</td>\n      <td>NaN</td>\n    </tr>\n    <tr>\n      <th>1385</th>\n      <td>NaN</td>\n      <td>NaN</td>\n      <td>NaN</td>\n      <td>NaN</td>\n      <td>NaN</td>\n      <td>NaN</td>\n    </tr>\n    <tr>\n      <th>1495</th>\n      <td>NaN</td>\n      <td>NaN</td>\n      <td>NaN</td>\n      <td>NaN</td>\n      <td>NaN</td>\n      <td>NaN</td>\n    </tr>\n    <tr>\n      <th>...</th>\n      <td>...</td>\n      <td>...</td>\n      <td>...</td>\n      <td>...</td>\n      <td>...</td>\n      <td>...</td>\n    </tr>\n    <tr>\n      <th>185795</th>\n      <td>NaN</td>\n      <td>NaN</td>\n      <td>NaN</td>\n      <td>NaN</td>\n      <td>NaN</td>\n      <td>NaN</td>\n    </tr>\n    <tr>\n      <th>185868</th>\n      <td>NaN</td>\n      <td>NaN</td>\n      <td>NaN</td>\n      <td>NaN</td>\n      <td>NaN</td>\n      <td>NaN</td>\n    </tr>\n    <tr>\n      <th>185887</th>\n      <td>NaN</td>\n      <td>NaN</td>\n      <td>NaN</td>\n      <td>NaN</td>\n      <td>NaN</td>\n      <td>NaN</td>\n    </tr>\n    <tr>\n      <th>185960</th>\n      <td>NaN</td>\n      <td>NaN</td>\n      <td>NaN</td>\n      <td>NaN</td>\n      <td>NaN</td>\n      <td>NaN</td>\n    </tr>\n    <tr>\n      <th>186580</th>\n      <td>NaN</td>\n      <td>NaN</td>\n      <td>NaN</td>\n      <td>NaN</td>\n      <td>NaN</td>\n      <td>NaN</td>\n    </tr>\n  </tbody>\n</table>\n<p>545 rows × 6 columns</p>\n</div>"
     },
     "metadata": {},
     "execution_count": 158
    }
   ],
   "source": [
    "df.loc[df['Order ID'].isnull()]"
   ]
  },
  {
   "cell_type": "code",
   "execution_count": 159,
   "metadata": {},
   "outputs": [
    {
     "output_type": "execute_result",
     "data": {
      "text/plain": "(186850, 6)"
     },
     "metadata": {},
     "execution_count": 159
    }
   ],
   "source": [
    "df.shape"
   ]
  },
  {
   "cell_type": "markdown",
   "metadata": {},
   "source": [
    "It looks like the data is missing 545 rows of data. I think that it is safe to drop this data."
   ]
  },
  {
   "cell_type": "code",
   "execution_count": 160,
   "metadata": {},
   "outputs": [],
   "source": [
    "df = df.loc[df['Order ID'].notna()]"
   ]
  },
  {
   "cell_type": "code",
   "execution_count": 161,
   "metadata": {},
   "outputs": [
    {
     "output_type": "execute_result",
     "data": {
      "text/plain": "(186305, 6)"
     },
     "metadata": {},
     "execution_count": 161
    }
   ],
   "source": [
    "df.shape"
   ]
  },
  {
   "cell_type": "markdown",
   "metadata": {},
   "source": [
    "# Changing data types for numeric columns"
   ]
  },
  {
   "cell_type": "code",
   "execution_count": 162,
   "metadata": {
    "tags": []
   },
   "outputs": [
    {
     "output_type": "stream",
     "name": "stdout",
     "text": "<class 'pandas.core.frame.DataFrame'>\nInt64Index: 186305 entries, 0 to 186849\nData columns (total 6 columns):\n #   Column            Non-Null Count   Dtype \n---  ------            --------------   ----- \n 0   Order ID          186305 non-null  object\n 1   Product           186305 non-null  object\n 2   Quantity Ordered  186305 non-null  object\n 3   Price Each        186305 non-null  object\n 4   Order Date        186305 non-null  object\n 5   Purchase Address  186305 non-null  object\ndtypes: object(6)\nmemory usage: 9.9+ MB\n"
    }
   ],
   "source": [
    "df.info()"
   ]
  },
  {
   "cell_type": "markdown",
   "metadata": {},
   "source": [
    "The columns that need attention are Order ID, Quantity Ordered, Price Each, and Order Date."
   ]
  },
  {
   "cell_type": "code",
   "execution_count": 163,
   "metadata": {},
   "outputs": [
    {
     "output_type": "execute_result",
     "data": {
      "text/plain": "Index(['Product', 'Quantity Ordered', 'Price Each', 'Order Date',\n       'Purchase Address'],\n      dtype='object')"
     },
     "metadata": {},
     "execution_count": 163
    }
   ],
   "source": [
    "# Dropping Order ID because I don't think it will help much in the analysis\n",
    "df = df.drop(['Order ID'], axis=1)\n",
    "df.columns"
   ]
  },
  {
   "cell_type": "code",
   "execution_count": 164,
   "metadata": {},
   "outputs": [],
   "source": [
    "# Converting Quantity Ordered column to numeric. If there are any objects that cannot be converted, they become null values.\n",
    "df['Quantity Ordered'] = pd.to_numeric(df['Quantity Ordered'], errors = 'coerce')"
   ]
  },
  {
   "cell_type": "code",
   "execution_count": 165,
   "metadata": {},
   "outputs": [
    {
     "output_type": "execute_result",
     "data": {
      "text/plain": "355"
     },
     "metadata": {},
     "execution_count": 165
    }
   ],
   "source": [
    "# Looking at how many new null values in this column\n",
    "df['Quantity Ordered'].isnull().sum()"
   ]
  },
  {
   "cell_type": "code",
   "execution_count": 166,
   "metadata": {},
   "outputs": [
    {
     "output_type": "execute_result",
     "data": {
      "text/plain": "        Product  Quantity Ordered  Price Each  Order Date  Purchase Address\n254     Product               NaN  Price Each  Order Date  Purchase Address\n705     Product               NaN  Price Each  Order Date  Purchase Address\n1101    Product               NaN  Price Each  Order Date  Purchase Address\n2875    Product               NaN  Price Each  Order Date  Purchase Address\n3708    Product               NaN  Price Each  Order Date  Purchase Address\n...         ...               ...         ...         ...               ...\n183671  Product               NaN  Price Each  Order Date  Purchase Address\n184012  Product               NaN  Price Each  Order Date  Purchase Address\n184041  Product               NaN  Price Each  Order Date  Purchase Address\n184275  Product               NaN  Price Each  Order Date  Purchase Address\n186532  Product               NaN  Price Each  Order Date  Purchase Address\n\n[355 rows x 5 columns]",
      "text/html": "<div>\n<style scoped>\n    .dataframe tbody tr th:only-of-type {\n        vertical-align: middle;\n    }\n\n    .dataframe tbody tr th {\n        vertical-align: top;\n    }\n\n    .dataframe thead th {\n        text-align: right;\n    }\n</style>\n<table border=\"1\" class=\"dataframe\">\n  <thead>\n    <tr style=\"text-align: right;\">\n      <th></th>\n      <th>Product</th>\n      <th>Quantity Ordered</th>\n      <th>Price Each</th>\n      <th>Order Date</th>\n      <th>Purchase Address</th>\n    </tr>\n  </thead>\n  <tbody>\n    <tr>\n      <th>254</th>\n      <td>Product</td>\n      <td>NaN</td>\n      <td>Price Each</td>\n      <td>Order Date</td>\n      <td>Purchase Address</td>\n    </tr>\n    <tr>\n      <th>705</th>\n      <td>Product</td>\n      <td>NaN</td>\n      <td>Price Each</td>\n      <td>Order Date</td>\n      <td>Purchase Address</td>\n    </tr>\n    <tr>\n      <th>1101</th>\n      <td>Product</td>\n      <td>NaN</td>\n      <td>Price Each</td>\n      <td>Order Date</td>\n      <td>Purchase Address</td>\n    </tr>\n    <tr>\n      <th>2875</th>\n      <td>Product</td>\n      <td>NaN</td>\n      <td>Price Each</td>\n      <td>Order Date</td>\n      <td>Purchase Address</td>\n    </tr>\n    <tr>\n      <th>3708</th>\n      <td>Product</td>\n      <td>NaN</td>\n      <td>Price Each</td>\n      <td>Order Date</td>\n      <td>Purchase Address</td>\n    </tr>\n    <tr>\n      <th>...</th>\n      <td>...</td>\n      <td>...</td>\n      <td>...</td>\n      <td>...</td>\n      <td>...</td>\n    </tr>\n    <tr>\n      <th>183671</th>\n      <td>Product</td>\n      <td>NaN</td>\n      <td>Price Each</td>\n      <td>Order Date</td>\n      <td>Purchase Address</td>\n    </tr>\n    <tr>\n      <th>184012</th>\n      <td>Product</td>\n      <td>NaN</td>\n      <td>Price Each</td>\n      <td>Order Date</td>\n      <td>Purchase Address</td>\n    </tr>\n    <tr>\n      <th>184041</th>\n      <td>Product</td>\n      <td>NaN</td>\n      <td>Price Each</td>\n      <td>Order Date</td>\n      <td>Purchase Address</td>\n    </tr>\n    <tr>\n      <th>184275</th>\n      <td>Product</td>\n      <td>NaN</td>\n      <td>Price Each</td>\n      <td>Order Date</td>\n      <td>Purchase Address</td>\n    </tr>\n    <tr>\n      <th>186532</th>\n      <td>Product</td>\n      <td>NaN</td>\n      <td>Price Each</td>\n      <td>Order Date</td>\n      <td>Purchase Address</td>\n    </tr>\n  </tbody>\n</table>\n<p>355 rows × 5 columns</p>\n</div>"
     },
     "metadata": {},
     "execution_count": 166
    }
   ],
   "source": [
    "# Finding the problem rows with null values\n",
    "bad_rows = df.loc[df['Quantity Ordered'].isnull()]\n",
    "bad_rows"
   ]
  },
  {
   "cell_type": "markdown",
   "metadata": {},
   "source": [
    "It seems these 355 rows are no good. They have the column name printed in each row, making them unusable. I will drop these rows."
   ]
  },
  {
   "cell_type": "code",
   "execution_count": 167,
   "metadata": {},
   "outputs": [
    {
     "output_type": "execute_result",
     "data": {
      "text/plain": "                       Product  Quantity Ordered Price Each      Order Date  \\\n0           Macbook Pro Laptop               1.0       1700  12/30/19 00:01   \n1           LG Washing Machine               1.0      600.0  12/29/19 07:03   \n2         USB-C Charging Cable               1.0      11.95  12/12/19 18:21   \n3             27in FHD Monitor               1.0     149.99  12/22/19 15:13   \n4         USB-C Charging Cable               1.0      11.95  12/18/19 12:38   \n...                        ...               ...        ...             ...   \n186845  AAA Batteries (4-pack)               1.0       2.99  06/07/19 19:02   \n186846        27in FHD Monitor               1.0     149.99  06/01/19 19:29   \n186847    USB-C Charging Cable               1.0      11.95  06/22/19 18:57   \n186848    USB-C Charging Cable               1.0      11.95  06/26/19 18:35   \n186849  AAA Batteries (4-pack)               1.0       2.99  06/25/19 14:33   \n\n                              Purchase Address  \n0       136 Church St, New York City, NY 10001  \n1          562 2nd St, New York City, NY 10001  \n2         277 Main St, New York City, NY 10001  \n3          410 6th St, San Francisco, CA 94016  \n4                43 Hill St, Atlanta, GA 30301  \n...                                        ...  \n186845           795 Pine St, Boston, MA 02215  \n186846   495 North St, New York City, NY 10001  \n186847   319 Ridge St, San Francisco, CA 94016  \n186848    916 Main St, San Francisco, CA 94016  \n186849          209 11th St, Atlanta, GA 30301  \n\n[185950 rows x 5 columns]",
      "text/html": "<div>\n<style scoped>\n    .dataframe tbody tr th:only-of-type {\n        vertical-align: middle;\n    }\n\n    .dataframe tbody tr th {\n        vertical-align: top;\n    }\n\n    .dataframe thead th {\n        text-align: right;\n    }\n</style>\n<table border=\"1\" class=\"dataframe\">\n  <thead>\n    <tr style=\"text-align: right;\">\n      <th></th>\n      <th>Product</th>\n      <th>Quantity Ordered</th>\n      <th>Price Each</th>\n      <th>Order Date</th>\n      <th>Purchase Address</th>\n    </tr>\n  </thead>\n  <tbody>\n    <tr>\n      <th>0</th>\n      <td>Macbook Pro Laptop</td>\n      <td>1.0</td>\n      <td>1700</td>\n      <td>12/30/19 00:01</td>\n      <td>136 Church St, New York City, NY 10001</td>\n    </tr>\n    <tr>\n      <th>1</th>\n      <td>LG Washing Machine</td>\n      <td>1.0</td>\n      <td>600.0</td>\n      <td>12/29/19 07:03</td>\n      <td>562 2nd St, New York City, NY 10001</td>\n    </tr>\n    <tr>\n      <th>2</th>\n      <td>USB-C Charging Cable</td>\n      <td>1.0</td>\n      <td>11.95</td>\n      <td>12/12/19 18:21</td>\n      <td>277 Main St, New York City, NY 10001</td>\n    </tr>\n    <tr>\n      <th>3</th>\n      <td>27in FHD Monitor</td>\n      <td>1.0</td>\n      <td>149.99</td>\n      <td>12/22/19 15:13</td>\n      <td>410 6th St, San Francisco, CA 94016</td>\n    </tr>\n    <tr>\n      <th>4</th>\n      <td>USB-C Charging Cable</td>\n      <td>1.0</td>\n      <td>11.95</td>\n      <td>12/18/19 12:38</td>\n      <td>43 Hill St, Atlanta, GA 30301</td>\n    </tr>\n    <tr>\n      <th>...</th>\n      <td>...</td>\n      <td>...</td>\n      <td>...</td>\n      <td>...</td>\n      <td>...</td>\n    </tr>\n    <tr>\n      <th>186845</th>\n      <td>AAA Batteries (4-pack)</td>\n      <td>1.0</td>\n      <td>2.99</td>\n      <td>06/07/19 19:02</td>\n      <td>795 Pine St, Boston, MA 02215</td>\n    </tr>\n    <tr>\n      <th>186846</th>\n      <td>27in FHD Monitor</td>\n      <td>1.0</td>\n      <td>149.99</td>\n      <td>06/01/19 19:29</td>\n      <td>495 North St, New York City, NY 10001</td>\n    </tr>\n    <tr>\n      <th>186847</th>\n      <td>USB-C Charging Cable</td>\n      <td>1.0</td>\n      <td>11.95</td>\n      <td>06/22/19 18:57</td>\n      <td>319 Ridge St, San Francisco, CA 94016</td>\n    </tr>\n    <tr>\n      <th>186848</th>\n      <td>USB-C Charging Cable</td>\n      <td>1.0</td>\n      <td>11.95</td>\n      <td>06/26/19 18:35</td>\n      <td>916 Main St, San Francisco, CA 94016</td>\n    </tr>\n    <tr>\n      <th>186849</th>\n      <td>AAA Batteries (4-pack)</td>\n      <td>1.0</td>\n      <td>2.99</td>\n      <td>06/25/19 14:33</td>\n      <td>209 11th St, Atlanta, GA 30301</td>\n    </tr>\n  </tbody>\n</table>\n<p>185950 rows × 5 columns</p>\n</div>"
     },
     "metadata": {},
     "execution_count": 167
    }
   ],
   "source": [
    "# Dropping problem rows\n",
    "bad_rows_index = [index for index in bad_rows.index]\n",
    "df = df.drop(bad_rows_index, axis = 0)\n",
    "df"
   ]
  },
  {
   "cell_type": "code",
   "execution_count": 168,
   "metadata": {},
   "outputs": [],
   "source": [
    "# Converting Price Each column to numeric\n",
    "df['Price Each'] = pd.to_numeric(df['Price Each'])"
   ]
  },
  {
   "cell_type": "code",
   "execution_count": 169,
   "metadata": {
    "tags": []
   },
   "outputs": [
    {
     "output_type": "execute_result",
     "data": {
      "text/plain": "Product              object\nQuantity Ordered    float64\nPrice Each          float64\nOrder Date           object\nPurchase Address     object\ndtype: object"
     },
     "metadata": {},
     "execution_count": 169
    }
   ],
   "source": [
    "df.dtypes"
   ]
  },
  {
   "cell_type": "code",
   "execution_count": 170,
   "metadata": {},
   "outputs": [],
   "source": [
    "# Converting order date column into date dtype\n",
    "df['Order Date'] = pd.to_datetime(df['Order Date'])"
   ]
  },
  {
   "cell_type": "code",
   "execution_count": 171,
   "metadata": {},
   "outputs": [
    {
     "output_type": "execute_result",
     "data": {
      "text/plain": "Product                     object\nQuantity Ordered           float64\nPrice Each                 float64\nOrder Date          datetime64[ns]\nPurchase Address            object\ndtype: object"
     },
     "metadata": {},
     "execution_count": 171
    }
   ],
   "source": [
    "df.dtypes"
   ]
  },
  {
   "cell_type": "markdown",
   "metadata": {},
   "source": [
    "# Adding a columns for order times (month, day, hour)"
   ]
  },
  {
   "cell_type": "code",
   "execution_count": 172,
   "metadata": {},
   "outputs": [
    {
     "output_type": "execute_result",
     "data": {
      "text/plain": "                Product  Quantity Ordered  Price Each          Order Date  \\\n0    Macbook Pro Laptop               1.0     1700.00 2019-12-30 00:01:00   \n1    LG Washing Machine               1.0      600.00 2019-12-29 07:03:00   \n2  USB-C Charging Cable               1.0       11.95 2019-12-12 18:21:00   \n3      27in FHD Monitor               1.0      149.99 2019-12-22 15:13:00   \n4  USB-C Charging Cable               1.0       11.95 2019-12-18 12:38:00   \n\n                         Purchase Address  \n0  136 Church St, New York City, NY 10001  \n1     562 2nd St, New York City, NY 10001  \n2    277 Main St, New York City, NY 10001  \n3     410 6th St, San Francisco, CA 94016  \n4           43 Hill St, Atlanta, GA 30301  ",
      "text/html": "<div>\n<style scoped>\n    .dataframe tbody tr th:only-of-type {\n        vertical-align: middle;\n    }\n\n    .dataframe tbody tr th {\n        vertical-align: top;\n    }\n\n    .dataframe thead th {\n        text-align: right;\n    }\n</style>\n<table border=\"1\" class=\"dataframe\">\n  <thead>\n    <tr style=\"text-align: right;\">\n      <th></th>\n      <th>Product</th>\n      <th>Quantity Ordered</th>\n      <th>Price Each</th>\n      <th>Order Date</th>\n      <th>Purchase Address</th>\n    </tr>\n  </thead>\n  <tbody>\n    <tr>\n      <th>0</th>\n      <td>Macbook Pro Laptop</td>\n      <td>1.0</td>\n      <td>1700.00</td>\n      <td>2019-12-30 00:01:00</td>\n      <td>136 Church St, New York City, NY 10001</td>\n    </tr>\n    <tr>\n      <th>1</th>\n      <td>LG Washing Machine</td>\n      <td>1.0</td>\n      <td>600.00</td>\n      <td>2019-12-29 07:03:00</td>\n      <td>562 2nd St, New York City, NY 10001</td>\n    </tr>\n    <tr>\n      <th>2</th>\n      <td>USB-C Charging Cable</td>\n      <td>1.0</td>\n      <td>11.95</td>\n      <td>2019-12-12 18:21:00</td>\n      <td>277 Main St, New York City, NY 10001</td>\n    </tr>\n    <tr>\n      <th>3</th>\n      <td>27in FHD Monitor</td>\n      <td>1.0</td>\n      <td>149.99</td>\n      <td>2019-12-22 15:13:00</td>\n      <td>410 6th St, San Francisco, CA 94016</td>\n    </tr>\n    <tr>\n      <th>4</th>\n      <td>USB-C Charging Cable</td>\n      <td>1.0</td>\n      <td>11.95</td>\n      <td>2019-12-18 12:38:00</td>\n      <td>43 Hill St, Atlanta, GA 30301</td>\n    </tr>\n  </tbody>\n</table>\n</div>"
     },
     "metadata": {},
     "execution_count": 172
    }
   ],
   "source": [
    "df.head()"
   ]
  },
  {
   "cell_type": "code",
   "execution_count": 173,
   "metadata": {},
   "outputs": [
    {
     "output_type": "execute_result",
     "data": {
      "text/plain": "                Product  Quantity Ordered  Price Each          Order Date  \\\n0    Macbook Pro Laptop               1.0     1700.00 2019-12-30 00:01:00   \n1    LG Washing Machine               1.0      600.00 2019-12-29 07:03:00   \n2  USB-C Charging Cable               1.0       11.95 2019-12-12 18:21:00   \n3      27in FHD Monitor               1.0      149.99 2019-12-22 15:13:00   \n4  USB-C Charging Cable               1.0       11.95 2019-12-18 12:38:00   \n\n                         Purchase Address  Order_Month  \n0  136 Church St, New York City, NY 10001           12  \n1     562 2nd St, New York City, NY 10001           12  \n2    277 Main St, New York City, NY 10001           12  \n3     410 6th St, San Francisco, CA 94016           12  \n4           43 Hill St, Atlanta, GA 30301           12  ",
      "text/html": "<div>\n<style scoped>\n    .dataframe tbody tr th:only-of-type {\n        vertical-align: middle;\n    }\n\n    .dataframe tbody tr th {\n        vertical-align: top;\n    }\n\n    .dataframe thead th {\n        text-align: right;\n    }\n</style>\n<table border=\"1\" class=\"dataframe\">\n  <thead>\n    <tr style=\"text-align: right;\">\n      <th></th>\n      <th>Product</th>\n      <th>Quantity Ordered</th>\n      <th>Price Each</th>\n      <th>Order Date</th>\n      <th>Purchase Address</th>\n      <th>Order_Month</th>\n    </tr>\n  </thead>\n  <tbody>\n    <tr>\n      <th>0</th>\n      <td>Macbook Pro Laptop</td>\n      <td>1.0</td>\n      <td>1700.00</td>\n      <td>2019-12-30 00:01:00</td>\n      <td>136 Church St, New York City, NY 10001</td>\n      <td>12</td>\n    </tr>\n    <tr>\n      <th>1</th>\n      <td>LG Washing Machine</td>\n      <td>1.0</td>\n      <td>600.00</td>\n      <td>2019-12-29 07:03:00</td>\n      <td>562 2nd St, New York City, NY 10001</td>\n      <td>12</td>\n    </tr>\n    <tr>\n      <th>2</th>\n      <td>USB-C Charging Cable</td>\n      <td>1.0</td>\n      <td>11.95</td>\n      <td>2019-12-12 18:21:00</td>\n      <td>277 Main St, New York City, NY 10001</td>\n      <td>12</td>\n    </tr>\n    <tr>\n      <th>3</th>\n      <td>27in FHD Monitor</td>\n      <td>1.0</td>\n      <td>149.99</td>\n      <td>2019-12-22 15:13:00</td>\n      <td>410 6th St, San Francisco, CA 94016</td>\n      <td>12</td>\n    </tr>\n    <tr>\n      <th>4</th>\n      <td>USB-C Charging Cable</td>\n      <td>1.0</td>\n      <td>11.95</td>\n      <td>2019-12-18 12:38:00</td>\n      <td>43 Hill St, Atlanta, GA 30301</td>\n      <td>12</td>\n    </tr>\n  </tbody>\n</table>\n</div>"
     },
     "metadata": {},
     "execution_count": 173
    }
   ],
   "source": [
    "df['Order_Month'] = pd.DatetimeIndex(df['Order Date']).month\n",
    "df.head()"
   ]
  },
  {
   "cell_type": "code",
   "execution_count": 174,
   "metadata": {},
   "outputs": [
    {
     "output_type": "execute_result",
     "data": {
      "text/plain": "                Product  Quantity Ordered  Price Each          Order Date  \\\n0    Macbook Pro Laptop               1.0     1700.00 2019-12-30 00:01:00   \n1    LG Washing Machine               1.0      600.00 2019-12-29 07:03:00   \n2  USB-C Charging Cable               1.0       11.95 2019-12-12 18:21:00   \n3      27in FHD Monitor               1.0      149.99 2019-12-22 15:13:00   \n4  USB-C Charging Cable               1.0       11.95 2019-12-18 12:38:00   \n\n                         Purchase Address  Order_Month  Order_Hour  \n0  136 Church St, New York City, NY 10001           12           0  \n1     562 2nd St, New York City, NY 10001           12           7  \n2    277 Main St, New York City, NY 10001           12          18  \n3     410 6th St, San Francisco, CA 94016           12          15  \n4           43 Hill St, Atlanta, GA 30301           12          12  ",
      "text/html": "<div>\n<style scoped>\n    .dataframe tbody tr th:only-of-type {\n        vertical-align: middle;\n    }\n\n    .dataframe tbody tr th {\n        vertical-align: top;\n    }\n\n    .dataframe thead th {\n        text-align: right;\n    }\n</style>\n<table border=\"1\" class=\"dataframe\">\n  <thead>\n    <tr style=\"text-align: right;\">\n      <th></th>\n      <th>Product</th>\n      <th>Quantity Ordered</th>\n      <th>Price Each</th>\n      <th>Order Date</th>\n      <th>Purchase Address</th>\n      <th>Order_Month</th>\n      <th>Order_Hour</th>\n    </tr>\n  </thead>\n  <tbody>\n    <tr>\n      <th>0</th>\n      <td>Macbook Pro Laptop</td>\n      <td>1.0</td>\n      <td>1700.00</td>\n      <td>2019-12-30 00:01:00</td>\n      <td>136 Church St, New York City, NY 10001</td>\n      <td>12</td>\n      <td>0</td>\n    </tr>\n    <tr>\n      <th>1</th>\n      <td>LG Washing Machine</td>\n      <td>1.0</td>\n      <td>600.00</td>\n      <td>2019-12-29 07:03:00</td>\n      <td>562 2nd St, New York City, NY 10001</td>\n      <td>12</td>\n      <td>7</td>\n    </tr>\n    <tr>\n      <th>2</th>\n      <td>USB-C Charging Cable</td>\n      <td>1.0</td>\n      <td>11.95</td>\n      <td>2019-12-12 18:21:00</td>\n      <td>277 Main St, New York City, NY 10001</td>\n      <td>12</td>\n      <td>18</td>\n    </tr>\n    <tr>\n      <th>3</th>\n      <td>27in FHD Monitor</td>\n      <td>1.0</td>\n      <td>149.99</td>\n      <td>2019-12-22 15:13:00</td>\n      <td>410 6th St, San Francisco, CA 94016</td>\n      <td>12</td>\n      <td>15</td>\n    </tr>\n    <tr>\n      <th>4</th>\n      <td>USB-C Charging Cable</td>\n      <td>1.0</td>\n      <td>11.95</td>\n      <td>2019-12-18 12:38:00</td>\n      <td>43 Hill St, Atlanta, GA 30301</td>\n      <td>12</td>\n      <td>12</td>\n    </tr>\n  </tbody>\n</table>\n</div>"
     },
     "metadata": {},
     "execution_count": 174
    }
   ],
   "source": [
    "df['Order_Hour'] = pd.DatetimeIndex(df['Order Date']).hour\n",
    "df.head()"
   ]
  },
  {
   "cell_type": "code",
   "execution_count": 175,
   "metadata": {},
   "outputs": [
    {
     "output_type": "execute_result",
     "data": {
      "text/plain": "                Product  Quantity Ordered  Price Each          Order Date  \\\n0    Macbook Pro Laptop               1.0     1700.00 2019-12-30 00:01:00   \n1    LG Washing Machine               1.0      600.00 2019-12-29 07:03:00   \n2  USB-C Charging Cable               1.0       11.95 2019-12-12 18:21:00   \n3      27in FHD Monitor               1.0      149.99 2019-12-22 15:13:00   \n4  USB-C Charging Cable               1.0       11.95 2019-12-18 12:38:00   \n\n                         Purchase Address  Order_Month  Order_Hour  Order_Day  \n0  136 Church St, New York City, NY 10001           12           0         30  \n1     562 2nd St, New York City, NY 10001           12           7         29  \n2    277 Main St, New York City, NY 10001           12          18         12  \n3     410 6th St, San Francisco, CA 94016           12          15         22  \n4           43 Hill St, Atlanta, GA 30301           12          12         18  ",
      "text/html": "<div>\n<style scoped>\n    .dataframe tbody tr th:only-of-type {\n        vertical-align: middle;\n    }\n\n    .dataframe tbody tr th {\n        vertical-align: top;\n    }\n\n    .dataframe thead th {\n        text-align: right;\n    }\n</style>\n<table border=\"1\" class=\"dataframe\">\n  <thead>\n    <tr style=\"text-align: right;\">\n      <th></th>\n      <th>Product</th>\n      <th>Quantity Ordered</th>\n      <th>Price Each</th>\n      <th>Order Date</th>\n      <th>Purchase Address</th>\n      <th>Order_Month</th>\n      <th>Order_Hour</th>\n      <th>Order_Day</th>\n    </tr>\n  </thead>\n  <tbody>\n    <tr>\n      <th>0</th>\n      <td>Macbook Pro Laptop</td>\n      <td>1.0</td>\n      <td>1700.00</td>\n      <td>2019-12-30 00:01:00</td>\n      <td>136 Church St, New York City, NY 10001</td>\n      <td>12</td>\n      <td>0</td>\n      <td>30</td>\n    </tr>\n    <tr>\n      <th>1</th>\n      <td>LG Washing Machine</td>\n      <td>1.0</td>\n      <td>600.00</td>\n      <td>2019-12-29 07:03:00</td>\n      <td>562 2nd St, New York City, NY 10001</td>\n      <td>12</td>\n      <td>7</td>\n      <td>29</td>\n    </tr>\n    <tr>\n      <th>2</th>\n      <td>USB-C Charging Cable</td>\n      <td>1.0</td>\n      <td>11.95</td>\n      <td>2019-12-12 18:21:00</td>\n      <td>277 Main St, New York City, NY 10001</td>\n      <td>12</td>\n      <td>18</td>\n      <td>12</td>\n    </tr>\n    <tr>\n      <th>3</th>\n      <td>27in FHD Monitor</td>\n      <td>1.0</td>\n      <td>149.99</td>\n      <td>2019-12-22 15:13:00</td>\n      <td>410 6th St, San Francisco, CA 94016</td>\n      <td>12</td>\n      <td>15</td>\n      <td>22</td>\n    </tr>\n    <tr>\n      <th>4</th>\n      <td>USB-C Charging Cable</td>\n      <td>1.0</td>\n      <td>11.95</td>\n      <td>2019-12-18 12:38:00</td>\n      <td>43 Hill St, Atlanta, GA 30301</td>\n      <td>12</td>\n      <td>12</td>\n      <td>18</td>\n    </tr>\n  </tbody>\n</table>\n</div>"
     },
     "metadata": {},
     "execution_count": 175
    }
   ],
   "source": [
    "df['Order_Day'] = pd.DatetimeIndex(df['Order Date']).day\n",
    "df.head()"
   ]
  },
  {
   "cell_type": "markdown",
   "metadata": {},
   "source": [
    "# Adding a sale value column"
   ]
  },
  {
   "cell_type": "code",
   "execution_count": 176,
   "metadata": {},
   "outputs": [
    {
     "output_type": "execute_result",
     "data": {
      "text/plain": "                Product  Quantity Ordered  Price Each          Order Date  \\\n0    Macbook Pro Laptop               1.0     1700.00 2019-12-30 00:01:00   \n1    LG Washing Machine               1.0      600.00 2019-12-29 07:03:00   \n2  USB-C Charging Cable               1.0       11.95 2019-12-12 18:21:00   \n3      27in FHD Monitor               1.0      149.99 2019-12-22 15:13:00   \n4  USB-C Charging Cable               1.0       11.95 2019-12-18 12:38:00   \n\n                         Purchase Address  Order_Month  Order_Hour  Order_Day  \\\n0  136 Church St, New York City, NY 10001           12           0         30   \n1     562 2nd St, New York City, NY 10001           12           7         29   \n2    277 Main St, New York City, NY 10001           12          18         12   \n3     410 6th St, San Francisco, CA 94016           12          15         22   \n4           43 Hill St, Atlanta, GA 30301           12          12         18   \n\n   Sale_Value  \n0     1700.00  \n1      600.00  \n2       11.95  \n3      149.99  \n4       11.95  ",
      "text/html": "<div>\n<style scoped>\n    .dataframe tbody tr th:only-of-type {\n        vertical-align: middle;\n    }\n\n    .dataframe tbody tr th {\n        vertical-align: top;\n    }\n\n    .dataframe thead th {\n        text-align: right;\n    }\n</style>\n<table border=\"1\" class=\"dataframe\">\n  <thead>\n    <tr style=\"text-align: right;\">\n      <th></th>\n      <th>Product</th>\n      <th>Quantity Ordered</th>\n      <th>Price Each</th>\n      <th>Order Date</th>\n      <th>Purchase Address</th>\n      <th>Order_Month</th>\n      <th>Order_Hour</th>\n      <th>Order_Day</th>\n      <th>Sale_Value</th>\n    </tr>\n  </thead>\n  <tbody>\n    <tr>\n      <th>0</th>\n      <td>Macbook Pro Laptop</td>\n      <td>1.0</td>\n      <td>1700.00</td>\n      <td>2019-12-30 00:01:00</td>\n      <td>136 Church St, New York City, NY 10001</td>\n      <td>12</td>\n      <td>0</td>\n      <td>30</td>\n      <td>1700.00</td>\n    </tr>\n    <tr>\n      <th>1</th>\n      <td>LG Washing Machine</td>\n      <td>1.0</td>\n      <td>600.00</td>\n      <td>2019-12-29 07:03:00</td>\n      <td>562 2nd St, New York City, NY 10001</td>\n      <td>12</td>\n      <td>7</td>\n      <td>29</td>\n      <td>600.00</td>\n    </tr>\n    <tr>\n      <th>2</th>\n      <td>USB-C Charging Cable</td>\n      <td>1.0</td>\n      <td>11.95</td>\n      <td>2019-12-12 18:21:00</td>\n      <td>277 Main St, New York City, NY 10001</td>\n      <td>12</td>\n      <td>18</td>\n      <td>12</td>\n      <td>11.95</td>\n    </tr>\n    <tr>\n      <th>3</th>\n      <td>27in FHD Monitor</td>\n      <td>1.0</td>\n      <td>149.99</td>\n      <td>2019-12-22 15:13:00</td>\n      <td>410 6th St, San Francisco, CA 94016</td>\n      <td>12</td>\n      <td>15</td>\n      <td>22</td>\n      <td>149.99</td>\n    </tr>\n    <tr>\n      <th>4</th>\n      <td>USB-C Charging Cable</td>\n      <td>1.0</td>\n      <td>11.95</td>\n      <td>2019-12-18 12:38:00</td>\n      <td>43 Hill St, Atlanta, GA 30301</td>\n      <td>12</td>\n      <td>12</td>\n      <td>18</td>\n      <td>11.95</td>\n    </tr>\n  </tbody>\n</table>\n</div>"
     },
     "metadata": {},
     "execution_count": 176
    }
   ],
   "source": [
    "df['Sale_Value'] = df['Quantity Ordered'] * df['Price Each']\n",
    "df.head()"
   ]
  },
  {
   "cell_type": "code",
   "execution_count": 177,
   "metadata": {},
   "outputs": [
    {
     "output_type": "execute_result",
     "data": {
      "text/plain": "Product                     object\nQuantity Ordered           float64\nPrice Each                 float64\nOrder Date          datetime64[ns]\nPurchase Address            object\nOrder_Month                  int64\nOrder_Hour                   int64\nOrder_Day                    int64\nSale_Value                 float64\ndtype: object"
     },
     "metadata": {},
     "execution_count": 177
    }
   ],
   "source": [
    "df.dtypes"
   ]
  },
  {
   "cell_type": "code",
   "execution_count": null,
   "metadata": {},
   "outputs": [],
   "source": []
  }
 ]
}